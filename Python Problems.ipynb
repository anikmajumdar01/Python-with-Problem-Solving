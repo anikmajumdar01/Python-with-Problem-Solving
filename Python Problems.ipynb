{
 "cells": [
  {
   "cell_type": "markdown",
   "id": "fd1395d9",
   "metadata": {},
   "source": [
    "# 1. Variable Swap: Write a Python program to swap the values of two variables without using a temporary variable."
   ]
  },
  {
   "cell_type": "code",
   "execution_count": 6,
   "id": "e4a2bf82",
   "metadata": {},
   "outputs": [
    {
     "name": "stdout",
     "output_type": "stream",
     "text": [
      "Enter a: 20.56\n",
      "Enter b: 48.25\n"
     ]
    }
   ],
   "source": [
    "a=float(input(\"Enter a: \"))\n",
    "b=float(input(\"Enter b: \"))"
   ]
  },
  {
   "cell_type": "code",
   "execution_count": 7,
   "id": "d72beceb",
   "metadata": {},
   "outputs": [],
   "source": [
    "a,b=b,a"
   ]
  },
  {
   "cell_type": "code",
   "execution_count": 8,
   "id": "c6ff5325",
   "metadata": {},
   "outputs": [
    {
     "name": "stdout",
     "output_type": "stream",
     "text": [
      "a:  48.25  b:  20.56\n"
     ]
    }
   ],
   "source": [
    "print(\"a: \",a,\" b: \",b)"
   ]
  },
  {
   "cell_type": "markdown",
   "id": "0b735db1",
   "metadata": {},
   "source": [
    "# 2. Even or Odd: Write a Python program that takes an integer as input and prints whether it is even or odd."
   ]
  },
  {
   "cell_type": "code",
   "execution_count": 11,
   "id": "14411158",
   "metadata": {},
   "outputs": [
    {
     "name": "stdout",
     "output_type": "stream",
     "text": [
      "Enter num: 26\n"
     ]
    }
   ],
   "source": [
    "num=int(input(\"Enter num: \"))"
   ]
  },
  {
   "cell_type": "code",
   "execution_count": 12,
   "id": "61c33734",
   "metadata": {},
   "outputs": [
    {
     "name": "stdout",
     "output_type": "stream",
     "text": [
      "26  Even\n"
     ]
    }
   ],
   "source": [
    "if(num%2==0):\n",
    "    print(num,\" Even\")\n",
    "else:\n",
    "    print(num,\" Odd\")"
   ]
  },
  {
   "cell_type": "markdown",
   "id": "edccf8a1",
   "metadata": {},
   "source": [
    "# 3. String Reverse: Write a Python function to reverse a given string and return the reversed string."
   ]
  },
  {
   "cell_type": "code",
   "execution_count": 1,
   "id": "87b9f0d8",
   "metadata": {},
   "outputs": [
    {
     "name": "stdout",
     "output_type": "stream",
     "text": [
      "Enter a string: Anik\n"
     ]
    }
   ],
   "source": [
    "def my_function(x):\n",
    "    return x[::-1]\n",
    "n=input(\"Enter a string: \")\n",
    "    "
   ]
  },
  {
   "cell_type": "code",
   "execution_count": 14,
   "id": "d2156029",
   "metadata": {},
   "outputs": [],
   "source": [
    "mytext=my_function(n)"
   ]
  },
  {
   "cell_type": "code",
   "execution_count": 15,
   "id": "a038fd71",
   "metadata": {},
   "outputs": [
    {
     "name": "stdout",
     "output_type": "stream",
     "text": [
      "kinA\n"
     ]
    }
   ],
   "source": [
    "print(mytext)"
   ]
  },
  {
   "cell_type": "markdown",
   "id": "4ba63fd6",
   "metadata": {},
   "source": [
    "# 4. Type Conversion: Given a list of integers, write a Python program to convert each element of the list to a string."
   ]
  },
  {
   "cell_type": "code",
   "execution_count": 32,
   "id": "91dcd36b",
   "metadata": {},
   "outputs": [
    {
     "name": "stdout",
     "output_type": "stream",
     "text": [
      "Enter the size of list: 5\n"
     ]
    }
   ],
   "source": [
    "num_list=[]\n",
    "n=int(input(\"Enter the size of list: \"))"
   ]
  },
  {
   "cell_type": "code",
   "execution_count": 33,
   "id": "aa96171c",
   "metadata": {},
   "outputs": [
    {
     "name": "stdout",
     "output_type": "stream",
     "text": [
      "5\n",
      "6\n",
      "7\n",
      "8\n",
      "9\n",
      "Convert each element of the list to a string\n",
      "['5', '6', '7', '8', '9']\n"
     ]
    }
   ],
   "source": [
    "for i in range(0,n):\n",
    "    num=int(input())\n",
    "    num_list.append(str(num))\n",
    "print(\"Convert each element of the list to a string\")\n",
    "print(num_list)\n"
   ]
  },
  {
   "cell_type": "markdown",
   "id": "42e71b47",
   "metadata": {},
   "source": [
    "# 5. Temperature Converter: Write a Python program that converts a temperature in Celsius to Fahrenheit. Take the Celsius temperature as input from the user."
   ]
  },
  {
   "cell_type": "code",
   "execution_count": 34,
   "id": "20f523ca",
   "metadata": {},
   "outputs": [
    {
     "name": "stdout",
     "output_type": "stream",
     "text": [
      "Enter Celsius: 9\n"
     ]
    }
   ],
   "source": [
    "c=float(input(\"Enter Celsius: \"))"
   ]
  },
  {
   "cell_type": "code",
   "execution_count": 35,
   "id": "c590c642",
   "metadata": {},
   "outputs": [
    {
     "name": "stdout",
     "output_type": "stream",
     "text": [
      "Fahrenheit:  48.2\n"
     ]
    }
   ],
   "source": [
    "f=(((9*c)/5)+32)\n",
    "print(\"Fahrenheit: \",f)"
   ]
  },
  {
   "cell_type": "markdown",
   "id": "3a147c52",
   "metadata": {},
   "source": [
    "# 6. Data Type Checker: Write a Python function that takes a variable as input and returns the data type of the variable as a string (e.g., “int”, “float”, “str”, “list”, etc.)"
   ]
  },
  {
   "cell_type": "code",
   "execution_count": 48,
   "id": "0bb9641b",
   "metadata": {},
   "outputs": [],
   "source": [
    "def checktype(n):\n",
    "    check=type(n).__name__\n",
    "    return check"
   ]
  },
  {
   "cell_type": "code",
   "execution_count": 49,
   "id": "9d184441",
   "metadata": {},
   "outputs": [
    {
     "name": "stdout",
     "output_type": "stream",
     "text": [
      "Enter input: Anik\n"
     ]
    }
   ],
   "source": [
    "value=(input(\"Enter input: \"))"
   ]
  },
  {
   "cell_type": "code",
   "execution_count": 50,
   "id": "c0076d8b",
   "metadata": {},
   "outputs": [
    {
     "name": "stdout",
     "output_type": "stream",
     "text": [
      "Type:  str\n"
     ]
    }
   ],
   "source": [
    "print(\"Type: \",checktype(value))"
   ]
  },
  {
   "cell_type": "markdown",
   "id": "45646613",
   "metadata": {},
   "source": [
    "# 7. String Palindrome: Write a Python function to check if a given string is a palindrome or not."
   ]
  },
  {
   "cell_type": "code",
   "execution_count": 8,
   "id": "a2a29111",
   "metadata": {},
   "outputs": [],
   "source": [
    "def palindrome(n):\n",
    "    return n[::-1]"
   ]
  },
  {
   "cell_type": "code",
   "execution_count": 12,
   "id": "3250e89a",
   "metadata": {},
   "outputs": [
    {
     "name": "stdout",
     "output_type": "stream",
     "text": [
      "Enter string: kook\n",
      "kook  is palindrome.\n"
     ]
    }
   ],
   "source": [
    "p=input(\"Enter string: \")\n",
    "q=palindrome(p).casefold()\n",
    "if(list(p)==list(q)):\n",
    "    print(p,\" is palindrome.\")\n",
    "else:\n",
    "    print(p,\" is not palindrome\")"
   ]
  },
  {
   "cell_type": "markdown",
   "id": "ef76e665",
   "metadata": {},
   "source": [
    "# 8. String Reversal with Slicing: Write a Python function to reverse a given string using slicing."
   ]
  },
  {
   "cell_type": "code",
   "execution_count": 13,
   "id": "47a27870",
   "metadata": {},
   "outputs": [],
   "source": [
    "def Str_reverse(s):\n",
    "    return s[::-1]\n"
   ]
  },
  {
   "cell_type": "code",
   "execution_count": 15,
   "id": "cc4404d4",
   "metadata": {},
   "outputs": [
    {
     "name": "stdout",
     "output_type": "stream",
     "text": [
      "Enter string: I am a ML Engineer.\n"
     ]
    }
   ],
   "source": [
    "Str=input(\"Enter string: \")\n"
   ]
  },
  {
   "cell_type": "code",
   "execution_count": 16,
   "id": "63f12568",
   "metadata": {},
   "outputs": [
    {
     "name": "stdout",
     "output_type": "stream",
     "text": [
      "String Reversal with Slicing:  .reenignE LM a ma I\n"
     ]
    }
   ],
   "source": [
    "r=Str_reverse(Str)\n",
    "print(\"String Reversal with Slicing: \",r)"
   ]
  },
  {
   "cell_type": "markdown",
   "id": "52e74889",
   "metadata": {},
   "source": [
    "# 9. String Concatenation: Write a Python program that takes two strings as input and concatenates them into a single string without using the `+` operator."
   ]
  },
  {
   "cell_type": "code",
   "execution_count": 25,
   "id": "f6e1374d",
   "metadata": {},
   "outputs": [
    {
     "name": "stdout",
     "output_type": "stream",
     "text": [
      "Enter string1: Bangla\n",
      "Enter string2: desh\n"
     ]
    }
   ],
   "source": [
    "str1=input(\"Enter string1: \")\n",
    "str2=input(\"Enter string2: \")"
   ]
  },
  {
   "cell_type": "code",
   "execution_count": 26,
   "id": "9aa9e087",
   "metadata": {},
   "outputs": [],
   "source": [
    "j=\"\".join([str1,str2])"
   ]
  },
  {
   "cell_type": "code",
   "execution_count": 27,
   "id": "2eb2996a",
   "metadata": {},
   "outputs": [
    {
     "name": "stdout",
     "output_type": "stream",
     "text": [
      "Bangladesh\n"
     ]
    }
   ],
   "source": [
    "print(j)"
   ]
  },
  {
   "cell_type": "markdown",
   "id": "d3710f30",
   "metadata": {},
   "source": [
    "# 10. Typecasting Challenge: Given three variables: `a = ‘100’`, `b = 25`, and `c = ‘10.5’`, write a Python program to perform the following operations and print the results: – Convert `a` to an integer and add it to `b`. – Convert `c` to a float and subtract it from the result of the first operation. – Convert the final result to a string and concatenate it with the string ” is the answer.”"
   ]
  },
  {
   "cell_type": "code",
   "execution_count": 34,
   "id": "965532eb",
   "metadata": {},
   "outputs": [
    {
     "name": "stdout",
     "output_type": "stream",
     "text": [
      "Enter a: 2\n",
      "Enter b: 6\n",
      "Enter c: 2.56\n"
     ]
    }
   ],
   "source": [
    "a=input(\"Enter a: \")\n",
    "b=int(input(\"Enter b: \"))\n",
    "c=input(\"Enter c: \")"
   ]
  },
  {
   "cell_type": "code",
   "execution_count": 35,
   "id": "168ea961",
   "metadata": {},
   "outputs": [],
   "source": [
    "result=int(a)+b"
   ]
  },
  {
   "cell_type": "code",
   "execution_count": 36,
   "id": "b5441959",
   "metadata": {},
   "outputs": [],
   "source": [
    "final_result=result-float(c)"
   ]
  },
  {
   "cell_type": "code",
   "execution_count": 37,
   "id": "66c8824f",
   "metadata": {},
   "outputs": [
    {
     "name": "stdout",
     "output_type": "stream",
     "text": [
      "5.4399999999999995 is the answer\n"
     ]
    }
   ],
   "source": [
    "f=str(final_result)\n",
    "print(f+\" is the answer\")"
   ]
  },
  {
   "cell_type": "markdown",
   "id": "6100d94c",
   "metadata": {},
   "source": [
    "# Python Conditional Statements:"
   ]
  },
  {
   "cell_type": "markdown",
   "id": "d64b2f1b",
   "metadata": {},
   "source": [
    "# 11. Positive, Negative, or Zero: Write a Python program that takes a number as input and prints whether it is positive, negative, or zero."
   ]
  },
  {
   "cell_type": "code",
   "execution_count": 42,
   "id": "f03627e0",
   "metadata": {},
   "outputs": [
    {
     "name": "stdout",
     "output_type": "stream",
     "text": [
      "Enter number: -9\n"
     ]
    }
   ],
   "source": [
    "number=float(input(\"Enter number: \"))"
   ]
  },
  {
   "cell_type": "code",
   "execution_count": 43,
   "id": "6c1bf8ea",
   "metadata": {},
   "outputs": [
    {
     "name": "stdout",
     "output_type": "stream",
     "text": [
      "-9.0  is negative number.\n"
     ]
    }
   ],
   "source": [
    "if(number>0):\n",
    "    print(number,\" is positive number.\")\n",
    "elif(number<0):\n",
    "    print(number,\" is negative number.\")\n",
    "elif(number==0):\n",
    "    print(number,\" is zero number.\")"
   ]
  },
  {
   "cell_type": "markdown",
   "id": "86672c2c",
   "metadata": {},
   "source": [
    "# 12. Largest of Three Numbers: Write a Python program that takes three numbers as input and prints the largest among them."
   ]
  },
  {
   "cell_type": "code",
   "execution_count": 73,
   "id": "f41965cf",
   "metadata": {},
   "outputs": [
    {
     "name": "stdout",
     "output_type": "stream",
     "text": [
      "Enter number1: 1\n",
      "Enter number2: 2\n",
      "Enter number3: 17\n"
     ]
    }
   ],
   "source": [
    "num1=float(input(\"Enter number1: \"))\n",
    "num2=float(input(\"Enter number2: \"))\n",
    "num3=float(input(\"Enter number3: \"))"
   ]
  },
  {
   "cell_type": "code",
   "execution_count": 74,
   "id": "fad98fe3",
   "metadata": {},
   "outputs": [
    {
     "name": "stdout",
     "output_type": "stream",
     "text": [
      "17.0  is the largest number\n"
     ]
    }
   ],
   "source": [
    "if(num1>num2 and num1<num3):\n",
    "    max=num1\n",
    "    \n",
    "elif(num2>num1 and num2>num3):\n",
    "    max=num2\n",
    "    \n",
    "elif(num3>num1 and num3>num2):\n",
    "    max=num3\n",
    "print(max,\" is the largest number\")"
   ]
  },
  {
   "cell_type": "markdown",
   "id": "3c36aef7",
   "metadata": {},
   "source": [
    "# 13. Leap Year Checker: Write a Python program that takes a year as input and determines if it is a leap year or not."
   ]
  },
  {
   "cell_type": "code",
   "execution_count": 80,
   "id": "76601160",
   "metadata": {},
   "outputs": [
    {
     "name": "stdout",
     "output_type": "stream",
     "text": [
      "Enter year: 1956\n"
     ]
    }
   ],
   "source": [
    "year=int(input(\"Enter year: \"))"
   ]
  },
  {
   "cell_type": "code",
   "execution_count": 81,
   "id": "fe9d107b",
   "metadata": {},
   "outputs": [
    {
     "name": "stdout",
     "output_type": "stream",
     "text": [
      "1956  is leap year.\n"
     ]
    }
   ],
   "source": [
    "if(year%4==0):\n",
    "    print(year,\" is leap year.\")\n",
    "else:\n",
    "    print(year,\" is not leap year.\")"
   ]
  },
  {
   "cell_type": "markdown",
   "id": "7188803a",
   "metadata": {},
   "source": [
    "# 14. Grades Classification: Write a Python program that takes a student’s percentage as input and prints their corresponding grade according to the following criteria: – 90% or above: A+ – 80-89%: A – 70-79%: B – 60-69%: C – Below 60%: Fail"
   ]
  },
  {
   "cell_type": "code",
   "execution_count": 82,
   "id": "d82c54f8",
   "metadata": {},
   "outputs": [
    {
     "name": "stdout",
     "output_type": "stream",
     "text": [
      "Enter subject marks: \n",
      "Bengali: 91\n",
      "English: 89\n",
      "Math: 98\n",
      "Physics: 91\n",
      "Chemistry: 85\n",
      "Biology: 82\n",
      "ICT: 93\n"
     ]
    }
   ],
   "source": [
    "print(\"Enter subject marks: \")\n",
    "Bengali=float(input(\"Bengali: \"))\n",
    "English=float(input(\"English: \"))\n",
    "Math=float(input(\"Math: \"))\n",
    "Physics=float(input(\"Physics: \"))\n",
    "Chemistry=float(input(\"Chemistry: \"))\n",
    "Biology=float(input(\"Biology: \"))\n",
    "ICT=float(input(\"ICT: \"))"
   ]
  },
  {
   "cell_type": "code",
   "execution_count": 83,
   "id": "8eb296b3",
   "metadata": {},
   "outputs": [],
   "source": [
    "avg=(Bengali+English+Math+Physics+Chemistry+Biology+ICT)/7"
   ]
  },
  {
   "cell_type": "code",
   "execution_count": 84,
   "id": "a5119495",
   "metadata": {},
   "outputs": [
    {
     "name": "stdout",
     "output_type": "stream",
     "text": [
      "Percentage:  89.85714285714286  Grade: A-\n"
     ]
    }
   ],
   "source": [
    "if(avg>=90):\n",
    "    print(\"Percentage: \",avg,\" Grade: A+\")\n",
    "elif(avg>=80):\n",
    "    print(\"Percentage: \",avg,\" Grade: A-\")\n",
    "elif(avg>=70):\n",
    "    print(\"Percentage: \",avg,\" Grade: B-\")\n",
    "elif(avg>=60):\n",
    "    print(\"Percentage: \",avg,\" Grade: C-\")\n",
    "elif(avg<60):\n",
    "    print(\"Percentage: \",avg,\" Grade: F\")\n"
   ]
  },
  {
   "cell_type": "markdown",
   "id": "746ac99d",
   "metadata": {},
   "source": [
    "# 15. Vowel or Consonant: Write a Python program that takes a single character as input and determines whether it is a vowel or a consonant."
   ]
  },
  {
   "cell_type": "code",
   "execution_count": 89,
   "id": "b1fc2f2a",
   "metadata": {},
   "outputs": [
    {
     "name": "stdout",
     "output_type": "stream",
     "text": [
      "Enter character: c\n"
     ]
    }
   ],
   "source": [
    "c=input(\"Enter character: \")"
   ]
  },
  {
   "cell_type": "code",
   "execution_count": 90,
   "id": "dbcac45c",
   "metadata": {},
   "outputs": [],
   "source": [
    "d=c.casefold()"
   ]
  },
  {
   "cell_type": "code",
   "execution_count": 91,
   "id": "12eb0076",
   "metadata": {},
   "outputs": [
    {
     "name": "stdout",
     "output_type": "stream",
     "text": [
      "c  is consonant.\n"
     ]
    }
   ],
   "source": [
    "if(d=='a' or d=='e' or d=='i' or d=='o' or d=='u'):\n",
    "    print(c,\" is vowel.\")\n",
    "else:\n",
    "    print(c,\" is consonant.\")"
   ]
  },
  {
   "cell_type": "markdown",
   "id": "18956ab9",
   "metadata": {},
   "source": [
    "# 16. Time Classification: Write a Python program that takes the time in hours (24-hour format) as input and prints “Good Morning”, “Good Afternoon”, “Good Evening”, or “Good Night” based on the time."
   ]
  },
  {
   "cell_type": "code",
   "execution_count": 92,
   "id": "028fb681",
   "metadata": {},
   "outputs": [
    {
     "name": "stdout",
     "output_type": "stream",
     "text": [
      "Enter the time in 24hrs format: 15\n"
     ]
    }
   ],
   "source": [
    "t=float(input(\"Enter the time in 24hrs format: \"))"
   ]
  },
  {
   "cell_type": "code",
   "execution_count": 93,
   "id": "0d2d6433",
   "metadata": {},
   "outputs": [
    {
     "name": "stdout",
     "output_type": "stream",
     "text": [
      "Good Afternoon\n"
     ]
    }
   ],
   "source": [
    "if 5<=t<12:\n",
    "    print(\"Good Morning\")\n",
    "elif 12<=t<17:\n",
    "    print(\"Good Afternoon\")\n",
    "elif 17<=t<21:\n",
    "    print(\"Good Evening\")\n",
    "else:\n",
    "    print(\"Good night\")"
   ]
  },
  {
   "cell_type": "markdown",
   "id": "6a1d4f29",
   "metadata": {},
   "source": [
    "# 17. Triangle Type Checker: Write a Python program that takes three sides of a triangle as input and determines whether it forms an equilateral, isosceles, or scalene triangle."
   ]
  },
  {
   "cell_type": "code",
   "execution_count": 98,
   "id": "512eb771",
   "metadata": {},
   "outputs": [
    {
     "name": "stdout",
     "output_type": "stream",
     "text": [
      "Enter a: 5\n",
      "Enter b: 5\n",
      "Enter c: 5\n"
     ]
    }
   ],
   "source": [
    "a=float(input(\"Enter a: \"))\n",
    "b=float(input(\"Enter b: \"))\n",
    "c=float(input(\"Enter c: \"))"
   ]
  },
  {
   "cell_type": "code",
   "execution_count": 99,
   "id": "836ebe67",
   "metadata": {},
   "outputs": [
    {
     "name": "stdout",
     "output_type": "stream",
     "text": [
      "It's equilateral triangle.\n"
     ]
    }
   ],
   "source": [
    "if(a==b==c):\n",
    "    print(\"It's equilateral triangle.\")\n",
    "\n",
    "elif(a==b or b==c or c==a):\n",
    "    print(\"It's isosceles triangle.\")\n",
    "\n",
    "else:\n",
    "    print(\"It's scalene triangle.\")\n",
    "    "
   ]
  },
  {
   "cell_type": "markdown",
   "id": "a76eb711",
   "metadata": {},
   "source": [
    "# 18. Quadratic Equation Solver: Write a Python program that takes the coefficients (a, b, c) of a quadratic equation as input and calculates and prints the real roots (if they exist) or a message indicating the complex roots."
   ]
  },
  {
   "cell_type": "code",
   "execution_count": 21,
   "id": "d53103e6",
   "metadata": {},
   "outputs": [
    {
     "name": "stdout",
     "output_type": "stream",
     "text": [
      "Enter a: 5\n",
      "Enter b: 2\n",
      "Enter c: 1\n"
     ]
    }
   ],
   "source": [
    "a=float(input(\"Enter a: \"))\n",
    "b=float(input(\"Enter b: \"))\n",
    "c=float(input(\"Enter c: \"))"
   ]
  },
  {
   "cell_type": "code",
   "execution_count": 22,
   "id": "30792bc9",
   "metadata": {},
   "outputs": [],
   "source": [
    "import math"
   ]
  },
  {
   "cell_type": "code",
   "execution_count": 23,
   "id": "56177c18",
   "metadata": {},
   "outputs": [],
   "source": [
    "d=b**2-4*a*c"
   ]
  },
  {
   "cell_type": "code",
   "execution_count": 24,
   "id": "0f80b1fe",
   "metadata": {},
   "outputs": [
    {
     "name": "stdout",
     "output_type": "stream",
     "text": [
      "Root:  -0.2  +  10.0 j\n"
     ]
    }
   ],
   "source": [
    "if d>0:\n",
    "    root1=(-b+(math.sqrt(d)))/2*a\n",
    "    root2=(-b-(math.sqrt(d)))/2*a\n",
    "    print(\"Root1: \",root1,\" Root2: \",root2)\n",
    "elif d==0:\n",
    "    root=(-b+(math.sqrt(d)))/2*a\n",
    "    print(\"Root: \",root)\n",
    "elif d<0:\n",
    "    real=-b/(2*a)\n",
    "    imaginary=math.sqrt(-d)/2*a\n",
    "    print(\"Root: \",real,\" + \",imaginary,\"j\")\n"
   ]
  },
  {
   "cell_type": "markdown",
   "id": "52401fdc",
   "metadata": {},
   "source": [
    "# 19. Number Ranges: Write a Python program that takes an integer as input and prints whether the number falls within the ranges: 0-50, 51-100, 101-150, or above 150."
   ]
  },
  {
   "cell_type": "code",
   "execution_count": 27,
   "id": "0fa9a33c",
   "metadata": {},
   "outputs": [
    {
     "name": "stdout",
     "output_type": "stream",
     "text": [
      "Enter num: 160\n"
     ]
    }
   ],
   "source": [
    "num=int(input(\"Enter num: \"))"
   ]
  },
  {
   "cell_type": "code",
   "execution_count": 28,
   "id": "18583bf3",
   "metadata": {},
   "outputs": [
    {
     "name": "stdout",
     "output_type": "stream",
     "text": [
      "The number is 160  that is above 150\n"
     ]
    }
   ],
   "source": [
    "if(0<=num<=50):\n",
    "    print(\"The number is\",num,\" that is between: 0 and 50\")\n",
    "elif(51<=num<=100):\n",
    "    print(\"The number is\",num,\" that is between: 51 and 100\")\n",
    "elif(101<=num<=150):\n",
    "    print(\"The number is\",num,\" that is between: 101 and 100\")\n",
    "elif(num>150):\n",
    "    print(\"The number is\",num,\" that is above 150\")"
   ]
  },
  {
   "cell_type": "markdown",
   "id": "7c63eef8",
   "metadata": {},
   "source": [
    "# For & While Loops:"
   ]
  },
  {
   "cell_type": "markdown",
   "id": "94676944",
   "metadata": {},
   "source": [
    "# 20. Sum of N Numbers: Write a Python program using a for loop to calculate the sum of the first N natural numbers, where N is taken as input from the user."
   ]
  },
  {
   "cell_type": "code",
   "execution_count": 29,
   "id": "7f2c82df",
   "metadata": {},
   "outputs": [
    {
     "name": "stdout",
     "output_type": "stream",
     "text": [
      "Enter n: 5\n"
     ]
    }
   ],
   "source": [
    "n=int(input(\"Enter n: \"))"
   ]
  },
  {
   "cell_type": "code",
   "execution_count": 30,
   "id": "ef2c004b",
   "metadata": {},
   "outputs": [
    {
     "name": "stdout",
     "output_type": "stream",
     "text": [
      "15\n"
     ]
    }
   ],
   "source": [
    "sum=0\n",
    "for i in range(n):\n",
    "    sum=sum+(i+1)\n",
    "print(sum)"
   ]
  },
  {
   "cell_type": "markdown",
   "id": "58d7cac0",
   "metadata": {},
   "source": [
    "# 21. Factorial Calculator: Write a Python program using a while loop to calculate the factorial of a given number N."
   ]
  },
  {
   "cell_type": "code",
   "execution_count": 51,
   "id": "d6af38bf",
   "metadata": {},
   "outputs": [
    {
     "name": "stdout",
     "output_type": "stream",
     "text": [
      "Enter N: 3\n"
     ]
    }
   ],
   "source": [
    "N=int(input(\"Enter N: \"))"
   ]
  },
  {
   "cell_type": "code",
   "execution_count": 52,
   "id": "6643ccdb",
   "metadata": {},
   "outputs": [
    {
     "name": "stdout",
     "output_type": "stream",
     "text": [
      "Factorial of  3  is: 6\n"
     ]
    }
   ],
   "source": [
    "fac_n=N\n",
    "fac=1\n",
    "while(N>0):\n",
    "    fac=fac*N\n",
    "    N=N-1\n",
    "print(\"Factorial of \",fac_n,\" is:\",fac)"
   ]
  },
  {
   "cell_type": "markdown",
   "id": "bc0cd4cb",
   "metadata": {},
   "source": [
    "# 22. Table of a Number: Write a Python program using a for loop to print the multiplication table of a given number N."
   ]
  },
  {
   "cell_type": "code",
   "execution_count": 2,
   "id": "238ac26c",
   "metadata": {},
   "outputs": [
    {
     "name": "stdout",
     "output_type": "stream",
     "text": [
      "Enter a number: 6\n"
     ]
    }
   ],
   "source": [
    "mul_num=int(input(\"Enter a number: \"))"
   ]
  },
  {
   "cell_type": "code",
   "execution_count": 3,
   "id": "77867465",
   "metadata": {},
   "outputs": [
    {
     "name": "stdout",
     "output_type": "stream",
     "text": [
      "6  x  1 =  6\n",
      "6  x  2 =  12\n",
      "6  x  3 =  18\n",
      "6  x  4 =  24\n",
      "6  x  5 =  30\n",
      "6  x  6 =  36\n",
      "6  x  7 =  42\n",
      "6  x  8 =  48\n",
      "6  x  9 =  54\n",
      "6  x  10 =  60\n"
     ]
    }
   ],
   "source": [
    "for i in range(1,11):\n",
    "    print(mul_num,\" x \",i,\"= \",mul_num*i)"
   ]
  },
  {
   "cell_type": "markdown",
   "id": "7f6d1fe0",
   "metadata": {},
   "source": [
    "# 23. Count Digits in a Number: Write a Python program using a while loop to count the number of digits in a given integer N."
   ]
  },
  {
   "cell_type": "code",
   "execution_count": 13,
   "id": "36c879a9",
   "metadata": {},
   "outputs": [
    {
     "name": "stdout",
     "output_type": "stream",
     "text": [
      "Enter n: 58\n"
     ]
    }
   ],
   "source": [
    "n_c=int(input(\"Enter n: \"))"
   ]
  },
  {
   "cell_type": "code",
   "execution_count": 14,
   "id": "c9284551",
   "metadata": {},
   "outputs": [
    {
     "name": "stdout",
     "output_type": "stream",
     "text": [
      "Number of digits of  0 is : 2\n"
     ]
    }
   ],
   "source": [
    "count=0\n",
    "while(n_c>0):\n",
    "    n_c=n_c//10\n",
    "    count=count+1\n",
    "print(\"Number of digits of \",n_c,\"is :\",count)"
   ]
  },
  {
   "cell_type": "markdown",
   "id": "f9abe0cd",
   "metadata": {},
   "source": [
    "# 24. Fibonacci Sequence: Write a Python program using a for loop to generate the Fibonacci sequence up to a given limit N."
   ]
  },
  {
   "cell_type": "code",
   "execution_count": 15,
   "id": "b7b156c6",
   "metadata": {},
   "outputs": [
    {
     "name": "stdout",
     "output_type": "stream",
     "text": [
      "Enter n: 5\n"
     ]
    }
   ],
   "source": [
    "n=int(input(\"Enter n: \"))"
   ]
  },
  {
   "cell_type": "code",
   "execution_count": 16,
   "id": "8fb02e87",
   "metadata": {},
   "outputs": [
    {
     "name": "stdout",
     "output_type": "stream",
     "text": [
      "0 1 1 2 3 "
     ]
    }
   ],
   "source": [
    "p=0\n",
    "q=1\n",
    "for i in range(n):\n",
    "    print(p,end=\" \")\n",
    "    r=p+q\n",
    "    p=q\n",
    "    q=r"
   ]
  },
  {
   "cell_type": "markdown",
   "id": "7507ba4b",
   "metadata": {},
   "source": [
    "# 25. Sum of Even Numbers: Write a Python program using a while loop to calculate the sum of all even numbers between 1 and N, where N is taken as input from the user."
   ]
  },
  {
   "cell_type": "code",
   "execution_count": 17,
   "id": "b397acb8",
   "metadata": {},
   "outputs": [
    {
     "name": "stdout",
     "output_type": "stream",
     "text": [
      "Enter number: 10\n"
     ]
    }
   ],
   "source": [
    "even_num=int(input(\"Enter number: \"))"
   ]
  },
  {
   "cell_type": "code",
   "execution_count": 18,
   "id": "a8c3cf39",
   "metadata": {},
   "outputs": [
    {
     "name": "stdout",
     "output_type": "stream",
     "text": [
      "2 4 6 8 \n",
      "Sum of all even numbers:  20\n"
     ]
    }
   ],
   "source": [
    "sum=0\n",
    "for i in range(1,even_num):\n",
    "    if(i%2==0):\n",
    "        print(i,end=\" \")\n",
    "        sum=sum+i\n",
    "print(\"\\nSum of all even numbers: \",sum)"
   ]
  },
  {
   "cell_type": "markdown",
   "id": "56ea0b51",
   "metadata": {},
   "source": [
    "# 26. Print Patterns: Write a Python program using nested for loops to print various patterns, such as a right-angled triangle, an inverted right-angled triangle, and so on."
   ]
  },
  {
   "cell_type": "markdown",
   "id": "3d50e169",
   "metadata": {},
   "source": [
    "# Right-angled triangle"
   ]
  },
  {
   "cell_type": "code",
   "execution_count": 19,
   "id": "706067be",
   "metadata": {},
   "outputs": [
    {
     "name": "stdout",
     "output_type": "stream",
     "text": [
      "Enter n: 5\n"
     ]
    }
   ],
   "source": [
    "n=int(input(\"Enter n: \"))"
   ]
  },
  {
   "cell_type": "code",
   "execution_count": 27,
   "id": "664f58ca",
   "metadata": {},
   "outputs": [
    {
     "name": "stdout",
     "output_type": "stream",
     "text": [
      "* \n",
      "* * \n",
      "* * * \n",
      "* * * * \n",
      "* * * * * \n"
     ]
    }
   ],
   "source": [
    "for i in range(1,n+1):\n",
    "    for j in range(1,i+1):\n",
    "        print(\"*\",end=\" \")\n",
    "    print()"
   ]
  },
  {
   "cell_type": "markdown",
   "id": "9e6c60d3",
   "metadata": {},
   "source": [
    "# Inverted right-angled triangle"
   ]
  },
  {
   "cell_type": "code",
   "execution_count": 33,
   "id": "9f1c2f6d",
   "metadata": {},
   "outputs": [
    {
     "name": "stdout",
     "output_type": "stream",
     "text": [
      "Enter n1: 6\n"
     ]
    }
   ],
   "source": [
    "n1=int(input(\"Enter n1: \"))"
   ]
  },
  {
   "cell_type": "code",
   "execution_count": 36,
   "id": "8342d96e",
   "metadata": {},
   "outputs": [
    {
     "name": "stdout",
     "output_type": "stream",
     "text": [
      "* * * * * * \n",
      "* * * * * \n",
      "* * * * \n",
      "* * * \n",
      "* * \n",
      "* \n"
     ]
    }
   ],
   "source": [
    "for i in range(n1,0,-1):\n",
    "    for j in range(1,i+1):\n",
    "        print(\"*\",end=\" \")\n",
    "    print()"
   ]
  },
  {
   "cell_type": "markdown",
   "id": "705543dd",
   "metadata": {},
   "source": [
    "# 27. Prime Number Checker: Write a Python program using a while loop to check if a given number N is prime or not."
   ]
  },
  {
   "cell_type": "code",
   "execution_count": 37,
   "id": "4c8d7582",
   "metadata": {},
   "outputs": [
    {
     "name": "stdout",
     "output_type": "stream",
     "text": [
      "Enter a number: 5\n"
     ]
    }
   ],
   "source": [
    "N = int(input(\"Enter a number: \"))"
   ]
  },
  {
   "cell_type": "code",
   "execution_count": 38,
   "id": "2ed3e8d0",
   "metadata": {},
   "outputs": [],
   "source": [
    "if N <= 1:\n",
    "    print(N, \"is not a prime number.\")\n",
    "else:\n",
    "    is_prime = True\n",
    "    i = 2 "
   ]
  },
  {
   "cell_type": "code",
   "execution_count": 39,
   "id": "b31554d4",
   "metadata": {},
   "outputs": [],
   "source": [
    "while i * i <= N:  \n",
    "        if N % i == 0:\n",
    "            is_prime = False\n",
    "            break\n",
    "        i += 1 "
   ]
  },
  {
   "cell_type": "code",
   "execution_count": 40,
   "id": "27182a04",
   "metadata": {},
   "outputs": [
    {
     "name": "stdout",
     "output_type": "stream",
     "text": [
      "5 is a prime number.\n"
     ]
    }
   ],
   "source": [
    "if is_prime:\n",
    "        print(N, \"is a prime number.\")\n",
    "else:\n",
    "    print(N, \"is not a prime number.\")"
   ]
  },
  {
   "cell_type": "markdown",
   "id": "c909b266",
   "metadata": {},
   "source": [
    "# 28. List Manipulation: Given a list of integers, write a Python program using a for loop to find the sum, average, maximum, and minimum values in the list."
   ]
  },
  {
   "cell_type": "code",
   "execution_count": 1,
   "id": "18fe2666",
   "metadata": {},
   "outputs": [],
   "source": [
    "numbers = [10, 25, 36, 45, 80, 15]"
   ]
  },
  {
   "cell_type": "code",
   "execution_count": 2,
   "id": "d93d7a99",
   "metadata": {},
   "outputs": [],
   "source": [
    "sum_numbers = 0\n",
    "max_number = numbers[0]\n",
    "min_number = numbers[0]"
   ]
  },
  {
   "cell_type": "code",
   "execution_count": 3,
   "id": "2fc4121b",
   "metadata": {},
   "outputs": [],
   "source": [
    "for num in numbers:\n",
    "    sum_numbers += num  \n",
    "    if num > max_number:\n",
    "        max_number = num  \n",
    "    if num < min_number:\n",
    "        min_number = num  \n"
   ]
  },
  {
   "cell_type": "code",
   "execution_count": 4,
   "id": "7d8c4143",
   "metadata": {},
   "outputs": [],
   "source": [
    "average = sum_numbers / len(numbers)"
   ]
  },
  {
   "cell_type": "code",
   "execution_count": 5,
   "id": "7c459149",
   "metadata": {},
   "outputs": [
    {
     "name": "stdout",
     "output_type": "stream",
     "text": [
      "Sum: 211\n",
      "Average: 35.166666666666664\n",
      "Maximum: 80\n",
      "Minimum: 10\n"
     ]
    }
   ],
   "source": [
    "print(f\"Sum: {sum_numbers}\")\n",
    "print(f\"Average: {average}\")\n",
    "print(f\"Maximum: {max_number}\")\n",
    "print(f\"Minimum: {min_number}\")"
   ]
  },
  {
   "cell_type": "markdown",
   "id": "4457e6ee",
   "metadata": {},
   "source": [
    "# 29. Reverse String: Write a Python program using a while loop to reverse a given string."
   ]
  },
  {
   "cell_type": "code",
   "execution_count": 9,
   "id": "481313ae",
   "metadata": {},
   "outputs": [],
   "source": [
    "input_string = \"Anik Kumar Majumdar\""
   ]
  },
  {
   "cell_type": "code",
   "execution_count": 10,
   "id": "7eb1420d",
   "metadata": {},
   "outputs": [],
   "source": [
    "reversed_string = \"\"\n"
   ]
  },
  {
   "cell_type": "code",
   "execution_count": 11,
   "id": "3cbbc9d2",
   "metadata": {},
   "outputs": [],
   "source": [
    "index = len(input_string) - 1"
   ]
  },
  {
   "cell_type": "code",
   "execution_count": 12,
   "id": "fb13547b",
   "metadata": {},
   "outputs": [],
   "source": [
    "while index >= 0:\n",
    "    reversed_string += input_string[index]\n",
    "    index -= 1  "
   ]
  },
  {
   "cell_type": "code",
   "execution_count": 13,
   "id": "d151d9fd",
   "metadata": {},
   "outputs": [
    {
     "name": "stdout",
     "output_type": "stream",
     "text": [
      "Original String: Anik Kumar Majumdar\n",
      "Reversed String: radmujaM ramuK kinA\n"
     ]
    }
   ],
   "source": [
    "print(f\"Original String: {input_string}\")\n",
    "print(f\"Reversed String: {reversed_string}\")"
   ]
  },
  {
   "cell_type": "markdown",
   "id": "3ce77586",
   "metadata": {},
   "source": [
    "# 30. Multiplication Table: Write a Python program using nested loops to print the multiplication table from 1 to 10."
   ]
  },
  {
   "cell_type": "code",
   "execution_count": 14,
   "id": "36bdddad",
   "metadata": {},
   "outputs": [
    {
     "name": "stdout",
     "output_type": "stream",
     "text": [
      "  1   2   3   4   5   6   7   8   9  10 \n",
      "  2   4   6   8  10  12  14  16  18  20 \n",
      "  3   6   9  12  15  18  21  24  27  30 \n",
      "  4   8  12  16  20  24  28  32  36  40 \n",
      "  5  10  15  20  25  30  35  40  45  50 \n",
      "  6  12  18  24  30  36  42  48  54  60 \n",
      "  7  14  21  28  35  42  49  56  63  70 \n",
      "  8  16  24  32  40  48  56  64  72  80 \n",
      "  9  18  27  36  45  54  63  72  81  90 \n",
      " 10  20  30  40  50  60  70  80  90 100 \n"
     ]
    }
   ],
   "source": [
    "for i in range(1, 11):\n",
    "    for j in range(1, 11):        \n",
    "        print(f\"{i * j:3}\", end=\" \")    \n",
    "    print()"
   ]
  },
  {
   "cell_type": "markdown",
   "id": "2d0dc0ee",
   "metadata": {},
   "source": [
    "# 31. Print Patterns: Write a Python program using nested loops to print the following pattern:\n",
    "\n",
    "## *\n",
    "\n",
    "## **\n",
    "\n",
    "## ***\n",
    "\n",
    "## ****\n",
    "\n",
    "## *****"
   ]
  },
  {
   "cell_type": "code",
   "execution_count": 16,
   "id": "201cbae6",
   "metadata": {},
   "outputs": [
    {
     "name": "stdout",
     "output_type": "stream",
     "text": [
      "Enter n: 6\n"
     ]
    }
   ],
   "source": [
    "n=int(input(\"Enter n: \"))"
   ]
  },
  {
   "cell_type": "code",
   "execution_count": 17,
   "id": "972d7b54",
   "metadata": {},
   "outputs": [
    {
     "name": "stdout",
     "output_type": "stream",
     "text": [
      "*\n",
      "**\n",
      "***\n",
      "****\n",
      "*****\n"
     ]
    }
   ],
   "source": [
    "\n",
    "for i in range(1, n):\n",
    "    for j in range(i):\n",
    "        print(\"*\", end=\"\")\n",
    "    print()\n"
   ]
  },
  {
   "cell_type": "markdown",
   "id": "303db1d5",
   "metadata": {},
   "source": [
    "# 32. Matrix Multiplication: Write a Python program using nested loops to multiply two matrices."
   ]
  },
  {
   "cell_type": "code",
   "execution_count": 18,
   "id": "65dc430f",
   "metadata": {},
   "outputs": [],
   "source": [
    "matrix1 = [\n",
    "    [1, 2, 3],\n",
    "    [4, 5, 6],\n",
    "    [7, 8, 9]\n",
    "]\n",
    "\n",
    "matrix2 = [\n",
    "    [9, 8, 7],\n",
    "    [6, 5, 4],\n",
    "    [3, 2, 1]\n",
    "]"
   ]
  },
  {
   "cell_type": "code",
   "execution_count": 19,
   "id": "9a277f0e",
   "metadata": {},
   "outputs": [],
   "source": [
    "result = [\n",
    "    [0, 0, 0],\n",
    "    [0, 0, 0],\n",
    "    [0, 0, 0]\n",
    "]"
   ]
  },
  {
   "cell_type": "code",
   "execution_count": 20,
   "id": "7c3eb53d",
   "metadata": {},
   "outputs": [],
   "source": [
    "for i in range(len(matrix1)):  \n",
    "    for j in range(len(matrix2[0])):  \n",
    "        for k in range(len(matrix2)):  \n",
    "            result[i][j] += matrix1[i][k] * matrix2[k][j]\n"
   ]
  },
  {
   "cell_type": "code",
   "execution_count": 21,
   "id": "bffc2f2d",
   "metadata": {},
   "outputs": [
    {
     "name": "stdout",
     "output_type": "stream",
     "text": [
      "Matrix Multiplication Result:\n",
      "[30, 24, 18]\n",
      "[84, 69, 54]\n",
      "[138, 114, 90]\n"
     ]
    }
   ],
   "source": [
    "print(\"Matrix Multiplication Result:\")\n",
    "for row in result:\n",
    "    print(row)"
   ]
  },
  {
   "cell_type": "markdown",
   "id": "b20aba4f",
   "metadata": {},
   "source": [
    "# 33. Chessboard Pattern: Write a Python program using nested loops to print a chessboard pattern (alternating “X” and “O” characters) of size 8×8. "
   ]
  },
  {
   "cell_type": "code",
   "execution_count": 22,
   "id": "dbe75b62",
   "metadata": {},
   "outputs": [
    {
     "name": "stdout",
     "output_type": "stream",
     "text": [
      "X O X O X O X O \n",
      "O X O X O X O X \n",
      "X O X O X O X O \n",
      "O X O X O X O X \n",
      "X O X O X O X O \n",
      "O X O X O X O X \n",
      "X O X O X O X O \n",
      "O X O X O X O X \n"
     ]
    }
   ],
   "source": [
    "for i in range(8):\n",
    "    for j in range(8):\n",
    "        if (i + j) % 2 == 0:\n",
    "            print(\"X\", end=\" \")\n",
    "        else:\n",
    "            print(\"O\", end=\" \")\n",
    "    print()\n"
   ]
  },
  {
   "cell_type": "markdown",
   "id": "4763ccb5",
   "metadata": {},
   "source": [
    "# 34. Number Pyramid: Write a Python program using nested loops to print a number pyramid like the following: 1 22 333 4444 55555"
   ]
  },
  {
   "cell_type": "code",
   "execution_count": 23,
   "id": "95bbd090",
   "metadata": {},
   "outputs": [
    {
     "name": "stdout",
     "output_type": "stream",
     "text": [
      "Enter n1: 6\n"
     ]
    }
   ],
   "source": [
    "n1=int(input(\"Enter n1: \"))"
   ]
  },
  {
   "cell_type": "code",
   "execution_count": 24,
   "id": "77254aeb",
   "metadata": {},
   "outputs": [
    {
     "name": "stdout",
     "output_type": "stream",
     "text": [
      "1\n",
      "22\n",
      "333\n",
      "4444\n",
      "55555\n"
     ]
    }
   ],
   "source": [
    "for i in range(1, 6):  # Pyramid height is 5 rows\n",
    "    for j in range(i):\n",
    "        print(i, end=\"\")\n",
    "    print()\n"
   ]
  },
  {
   "cell_type": "markdown",
   "id": "e5bb2bda",
   "metadata": {},
   "source": [
    "# List Problems:"
   ]
  },
  {
   "cell_type": "markdown",
   "id": "a8794613",
   "metadata": {},
   "source": [
    "# 34. List Sum: Write a Python program to find the sum of all elements in a given list of integers."
   ]
  },
  {
   "cell_type": "code",
   "execution_count": 25,
   "id": "ee9e148c",
   "metadata": {},
   "outputs": [],
   "source": [
    "numbers = [10, 20, 30, 40, 50]"
   ]
  },
  {
   "cell_type": "code",
   "execution_count": 26,
   "id": "e7b36d2e",
   "metadata": {},
   "outputs": [],
   "source": [
    "total_sum = 0"
   ]
  },
  {
   "cell_type": "code",
   "execution_count": 27,
   "id": "0739c871",
   "metadata": {},
   "outputs": [],
   "source": [
    "for num in numbers:\n",
    "    total_sum += num"
   ]
  },
  {
   "cell_type": "code",
   "execution_count": 28,
   "id": "60f9f463",
   "metadata": {},
   "outputs": [
    {
     "name": "stdout",
     "output_type": "stream",
     "text": [
      "The sum of all elements in the list is: 150\n"
     ]
    }
   ],
   "source": [
    "print(f\"The sum of all elements in the list is: {total_sum}\")"
   ]
  },
  {
   "cell_type": "markdown",
   "id": "c2b2f89f",
   "metadata": {},
   "source": [
    "# 35. List Average: Write a Python program to calculate the average of all elements in a given list of integers."
   ]
  },
  {
   "cell_type": "code",
   "execution_count": 29,
   "id": "c24d1ea3",
   "metadata": {},
   "outputs": [],
   "source": [
    "numbers = [10, 20, 30, 40, 50]"
   ]
  },
  {
   "cell_type": "code",
   "execution_count": 30,
   "id": "bb6dc9d4",
   "metadata": {},
   "outputs": [],
   "source": [
    "total_sum = 0\n",
    "for num in numbers:\n",
    "    total_sum += num"
   ]
  },
  {
   "cell_type": "code",
   "execution_count": 31,
   "id": "2dc87a29",
   "metadata": {},
   "outputs": [],
   "source": [
    "average = total_sum / len(numbers)"
   ]
  },
  {
   "cell_type": "code",
   "execution_count": 32,
   "id": "626a7306",
   "metadata": {},
   "outputs": [
    {
     "name": "stdout",
     "output_type": "stream",
     "text": [
      "The average of the elements in the list is: 30.0\n"
     ]
    }
   ],
   "source": [
    "print(f\"The average of the elements in the list is: {average}\")"
   ]
  },
  {
   "cell_type": "markdown",
   "id": "517bb996",
   "metadata": {},
   "source": [
    "# 36. List Max and Min: Write a Python program to find the maximum and minimum values in a given list of integers."
   ]
  },
  {
   "cell_type": "code",
   "execution_count": 33,
   "id": "f7f3ab7e",
   "metadata": {},
   "outputs": [],
   "source": [
    "numbers = [10, 20, 30, 40, 50]"
   ]
  },
  {
   "cell_type": "code",
   "execution_count": 34,
   "id": "a298807b",
   "metadata": {},
   "outputs": [],
   "source": [
    "max_value = numbers[0]\n",
    "min_value = numbers[0]"
   ]
  },
  {
   "cell_type": "code",
   "execution_count": 35,
   "id": "cb714188",
   "metadata": {},
   "outputs": [],
   "source": [
    "for num in numbers:\n",
    "    if num > max_value:\n",
    "        max_value = num\n",
    "    if num < min_value:\n",
    "        min_value = num"
   ]
  },
  {
   "cell_type": "code",
   "execution_count": 36,
   "id": "2e8e7753",
   "metadata": {},
   "outputs": [
    {
     "name": "stdout",
     "output_type": "stream",
     "text": [
      "The maximum value in the list is: 50\n",
      "The minimum value in the list is: 10\n"
     ]
    }
   ],
   "source": [
    "print(f\"The maximum value in the list is: {max_value}\")\n",
    "print(f\"The minimum value in the list is: {min_value}\")"
   ]
  },
  {
   "cell_type": "markdown",
   "id": "d4d597c7",
   "metadata": {},
   "source": [
    "# 37. List Sorting: Write a Python program to sort a list of integers in ascending order."
   ]
  },
  {
   "cell_type": "code",
   "execution_count": 37,
   "id": "64b3961b",
   "metadata": {},
   "outputs": [],
   "source": [
    "numbers = [40, 10, 30, 50, 20]"
   ]
  },
  {
   "cell_type": "code",
   "execution_count": 38,
   "id": "31649756",
   "metadata": {},
   "outputs": [],
   "source": [
    "numbers.sort()"
   ]
  },
  {
   "cell_type": "code",
   "execution_count": 39,
   "id": "a77b1a3b",
   "metadata": {},
   "outputs": [
    {
     "name": "stdout",
     "output_type": "stream",
     "text": [
      "The sorted list in ascending order is: [10, 20, 30, 40, 50]\n"
     ]
    }
   ],
   "source": [
    "print(f\"The sorted list in ascending order is: {numbers}\")"
   ]
  },
  {
   "cell_type": "markdown",
   "id": "5ba8cad6",
   "metadata": {},
   "source": [
    "# 38. List Filtering: Given a list of integers, write a Python program to create a new list that contains only the even numbers from the original list."
   ]
  },
  {
   "cell_type": "code",
   "execution_count": 40,
   "id": "62efedc5",
   "metadata": {},
   "outputs": [],
   "source": [
    "original_list = [1, 2, 3, 4, 5, 6, 7, 8, 9, 10]"
   ]
  },
  {
   "cell_type": "code",
   "execution_count": 41,
   "id": "2090d88b",
   "metadata": {},
   "outputs": [],
   "source": [
    "even_numbers = []"
   ]
  },
  {
   "cell_type": "code",
   "execution_count": 42,
   "id": "76f715aa",
   "metadata": {},
   "outputs": [],
   "source": [
    "for num in original_list:\n",
    "    if num % 2 == 0:\n",
    "        even_numbers.append(num)"
   ]
  },
  {
   "cell_type": "code",
   "execution_count": 43,
   "id": "01684dc1",
   "metadata": {},
   "outputs": [
    {
     "name": "stdout",
     "output_type": "stream",
     "text": [
      "Original List: [1, 2, 3, 4, 5, 6, 7, 8, 9, 10]\n",
      "Filtered List (Even Numbers): [2, 4, 6, 8, 10]\n"
     ]
    }
   ],
   "source": [
    "print(\"Original List:\", original_list)\n",
    "print(\"Filtered List (Even Numbers):\", even_numbers)"
   ]
  },
  {
   "cell_type": "markdown",
   "id": "b12401b2",
   "metadata": {},
   "source": [
    "# 39. List Reversal: Write a Python program to reverse a given list without using any built-in functions."
   ]
  },
  {
   "cell_type": "code",
   "execution_count": 44,
   "id": "51c03d84",
   "metadata": {},
   "outputs": [],
   "source": [
    "original_list = [1, 2, 3, 4, 5, 6, 7, 8, 9, 10]"
   ]
  },
  {
   "cell_type": "code",
   "execution_count": 45,
   "id": "adb7c7db",
   "metadata": {},
   "outputs": [],
   "source": [
    "start = 0\n",
    "end = len(original_list) - 1"
   ]
  },
  {
   "cell_type": "code",
   "execution_count": 46,
   "id": "392869fd",
   "metadata": {},
   "outputs": [],
   "source": [
    "while start < end:\n",
    "    temp = original_list[start]\n",
    "    original_list[start] = original_list[end]\n",
    "    original_list[end] = temp\n",
    "    start += 1\n",
    "    end -= 1"
   ]
  },
  {
   "cell_type": "code",
   "execution_count": 47,
   "id": "e82e8dd7",
   "metadata": {},
   "outputs": [
    {
     "name": "stdout",
     "output_type": "stream",
     "text": [
      "Reversed List: [10, 9, 8, 7, 6, 5, 4, 3, 2, 1]\n"
     ]
    }
   ],
   "source": [
    "print(\"Reversed List:\", original_list)"
   ]
  },
  {
   "cell_type": "markdown",
   "id": "6573395e",
   "metadata": {},
   "source": [
    "# 40. List Manipulation: Given two lists of integers, write a Python program to create a new list that contains elements common to both lists."
   ]
  },
  {
   "cell_type": "code",
   "execution_count": 48,
   "id": "5d59926d",
   "metadata": {},
   "outputs": [],
   "source": [
    "list1 = [1, 2, 3, 4, 5]\n",
    "list2 = [4, 5, 6, 7, 8]"
   ]
  },
  {
   "cell_type": "code",
   "execution_count": 49,
   "id": "fdf13bbf",
   "metadata": {},
   "outputs": [],
   "source": [
    "common_elements = []"
   ]
  },
  {
   "cell_type": "code",
   "execution_count": 50,
   "id": "772c8b60",
   "metadata": {},
   "outputs": [],
   "source": [
    "for item in list1:\n",
    "    if item in list2:\n",
    "        if item not in common_elements:\n",
    "            common_elements.append(item)"
   ]
  },
  {
   "cell_type": "code",
   "execution_count": 51,
   "id": "6c52d7d9",
   "metadata": {},
   "outputs": [
    {
     "name": "stdout",
     "output_type": "stream",
     "text": [
      "List 1: [1, 2, 3, 4, 5]\n",
      "List 2: [4, 5, 6, 7, 8]\n",
      "Common Elements: [4, 5]\n"
     ]
    }
   ],
   "source": [
    "print(\"List 1:\", list1)\n",
    "print(\"List 2:\", list2)\n",
    "print(\"Common Elements:\", common_elements)"
   ]
  },
  {
   "cell_type": "markdown",
   "id": "08de95f6",
   "metadata": {},
   "source": [
    "# 41. List Element Count: Write a Python program to count the occurrences of a specific element in a given list."
   ]
  },
  {
   "cell_type": "code",
   "execution_count": 52,
   "id": "19c35407",
   "metadata": {},
   "outputs": [],
   "source": [
    "my_list = [1, 2, 3, 2, 4, 2, 5, 6, 2]"
   ]
  },
  {
   "cell_type": "code",
   "execution_count": 53,
   "id": "38f16163",
   "metadata": {},
   "outputs": [],
   "source": [
    "element_to_count = 2"
   ]
  },
  {
   "cell_type": "code",
   "execution_count": 54,
   "id": "22e6b7c5",
   "metadata": {},
   "outputs": [],
   "source": [
    "count = 0"
   ]
  },
  {
   "cell_type": "code",
   "execution_count": 55,
   "id": "231e1869",
   "metadata": {},
   "outputs": [],
   "source": [
    "for item in my_list:\n",
    "    if item == element_to_count:\n",
    "        count += 1"
   ]
  },
  {
   "cell_type": "code",
   "execution_count": 56,
   "id": "6892f86b",
   "metadata": {},
   "outputs": [
    {
     "name": "stdout",
     "output_type": "stream",
     "text": [
      "The element 2 occurs 4 times in the list.\n"
     ]
    }
   ],
   "source": [
    "print(f\"The element {element_to_count} occurs {count} times in the list.\")"
   ]
  },
  {
   "cell_type": "markdown",
   "id": "f00e4502",
   "metadata": {},
   "source": [
    "# 42. List Duplicates Removal: Write a Python program to remove duplicates from a given list while preserving the order of the elements."
   ]
  },
  {
   "cell_type": "code",
   "execution_count": 57,
   "id": "7302f3f8",
   "metadata": {},
   "outputs": [],
   "source": [
    "original_list = [1, 2, 2, 3, 4, 4, 5, 6, 1, 7, 8]"
   ]
  },
  {
   "cell_type": "code",
   "execution_count": 58,
   "id": "0741efd7",
   "metadata": {},
   "outputs": [],
   "source": [
    "unique_list = []"
   ]
  },
  {
   "cell_type": "code",
   "execution_count": 59,
   "id": "ce043e6b",
   "metadata": {},
   "outputs": [],
   "source": [
    "seen = set()"
   ]
  },
  {
   "cell_type": "code",
   "execution_count": 60,
   "id": "8f034f0f",
   "metadata": {},
   "outputs": [],
   "source": [
    "for item in original_list:\n",
    "    if item not in seen:\n",
    "        unique_list.append(item)\n",
    "        seen.add(item)"
   ]
  },
  {
   "cell_type": "code",
   "execution_count": 61,
   "id": "bb409d40",
   "metadata": {},
   "outputs": [
    {
     "name": "stdout",
     "output_type": "stream",
     "text": [
      "Original List: [1, 2, 2, 3, 4, 4, 5, 6, 1, 7, 8]\n",
      "List after removing duplicates: [1, 2, 3, 4, 5, 6, 7, 8]\n"
     ]
    }
   ],
   "source": [
    "print(\"Original List:\", original_list)\n",
    "print(\"List after removing duplicates:\", unique_list)"
   ]
  },
  {
   "cell_type": "markdown",
   "id": "8086cdd8",
   "metadata": {},
   "source": [
    "# 43. List Comprehension: Given a list of integers, write a Python program to create a new list that contains the squares of the elements using list comprehension."
   ]
  },
  {
   "cell_type": "code",
   "execution_count": 62,
   "id": "06e38aa0",
   "metadata": {},
   "outputs": [],
   "source": [
    "original_list = [1, 2, 3, 4, 5]"
   ]
  },
  {
   "cell_type": "code",
   "execution_count": 63,
   "id": "1f3fc711",
   "metadata": {},
   "outputs": [],
   "source": [
    "squared_list = []"
   ]
  },
  {
   "cell_type": "code",
   "execution_count": 64,
   "id": "be0cd337",
   "metadata": {},
   "outputs": [],
   "source": [
    "for x in original_list:\n",
    "    squared_list.append(x ** 2)"
   ]
  },
  {
   "cell_type": "code",
   "execution_count": 65,
   "id": "197b028f",
   "metadata": {},
   "outputs": [
    {
     "name": "stdout",
     "output_type": "stream",
     "text": [
      "Original List: [1, 2, 3, 4, 5]\n",
      "Squared List: [1, 4, 9, 16, 25]\n"
     ]
    }
   ],
   "source": [
    "print(\"Original List:\", original_list)\n",
    "print(\"Squared List:\", squared_list)"
   ]
  },
  {
   "cell_type": "markdown",
   "id": "544dda55",
   "metadata": {},
   "source": [
    "# Nested List Problems:"
   ]
  },
  {
   "cell_type": "markdown",
   "id": "ef539c3d",
   "metadata": {},
   "source": [
    "# 44. Matrix Addition: Write a Python program to add two matrices represented as nested lists."
   ]
  },
  {
   "cell_type": "code",
   "execution_count": 66,
   "id": "fe3f9928",
   "metadata": {},
   "outputs": [],
   "source": [
    "matrix1 = [\n",
    "    [1, 2, 3],\n",
    "    [4, 5, 6],\n",
    "    [7, 8, 9]\n",
    "]\n",
    "\n",
    "matrix2 = [\n",
    "    [9, 8, 7],\n",
    "    [6, 5, 4],\n",
    "    [3, 2, 1]\n",
    "]"
   ]
  },
  {
   "cell_type": "code",
   "execution_count": 67,
   "id": "bc94ab0f",
   "metadata": {},
   "outputs": [],
   "source": [
    "num_rows = len(matrix1)\n",
    "num_cols = len(matrix1[0])"
   ]
  },
  {
   "cell_type": "code",
   "execution_count": 68,
   "id": "d74da3ba",
   "metadata": {},
   "outputs": [],
   "source": [
    "result_matrix = []"
   ]
  },
  {
   "cell_type": "code",
   "execution_count": 69,
   "id": "8e780320",
   "metadata": {},
   "outputs": [],
   "source": [
    "for i in range(num_rows):\n",
    "    result_row = []\n",
    "    for j in range(num_cols):\n",
    "        result_row.append(matrix1[i][j] + matrix2[i][j])\n",
    "    result_matrix.append(result_row)"
   ]
  },
  {
   "cell_type": "code",
   "execution_count": 71,
   "id": "03e63a55",
   "metadata": {},
   "outputs": [
    {
     "name": "stdout",
     "output_type": "stream",
     "text": [
      "\n",
      "Result of Matrix Addition:\n",
      "[10, 10, 10]\n",
      "[10, 10, 10]\n",
      "[10, 10, 10]\n"
     ]
    }
   ],
   "source": [
    "print(\"\\nResult of Matrix Addition:\")\n",
    "for row in result_matrix:\n",
    "    print(row)"
   ]
  },
  {
   "cell_type": "markdown",
   "id": "5385e953",
   "metadata": {},
   "source": [
    "# 45. Flatten Nested List: Write a Python program to flatten a given nested list and convert it into a single-dimensional list."
   ]
  },
  {
   "cell_type": "code",
   "execution_count": 72,
   "id": "c92afb5b",
   "metadata": {},
   "outputs": [],
   "source": [
    "nested_list = [1, [2, 3, [4, 5]], [6, 7], 8, [[9]]]"
   ]
  },
  {
   "cell_type": "code",
   "execution_count": 73,
   "id": "51a94f19",
   "metadata": {},
   "outputs": [],
   "source": [
    "flat_list = []\n",
    "stack = list(nested_list)"
   ]
  },
  {
   "cell_type": "code",
   "execution_count": 74,
   "id": "8e9e2ce0",
   "metadata": {},
   "outputs": [],
   "source": [
    "while stack:\n",
    "    element = stack.pop(0)  \n",
    "    if isinstance(element, list):\n",
    "        stack = element + stack  \n",
    "    else:\n",
    "        flat_list.append(element) "
   ]
  },
  {
   "cell_type": "code",
   "execution_count": 75,
   "id": "c6b248b0",
   "metadata": {},
   "outputs": [
    {
     "name": "stdout",
     "output_type": "stream",
     "text": [
      "[1, 2, 3, 4, 5, 6, 7, 8, 9]\n"
     ]
    }
   ],
   "source": [
    "print(flat_list)"
   ]
  },
  {
   "cell_type": "markdown",
   "id": "2e777a0d",
   "metadata": {},
   "source": [
    "# 46. List Element Frequency: Given a nested list containing lists of integers, write a Python program to count the frequency of each element in the entire nested list."
   ]
  },
  {
   "cell_type": "code",
   "execution_count": 76,
   "id": "83472ddb",
   "metadata": {},
   "outputs": [],
   "source": [
    "from collections import defaultdict"
   ]
  },
  {
   "cell_type": "code",
   "execution_count": 77,
   "id": "d374b8ee",
   "metadata": {},
   "outputs": [],
   "source": [
    "nested_list = [[1, 2, 2, 3], [3, 4, 4, 4], [5, 6, 6]]"
   ]
  },
  {
   "cell_type": "code",
   "execution_count": 78,
   "id": "b9376ecb",
   "metadata": {},
   "outputs": [],
   "source": [
    "frequency = defaultdict(int)\n"
   ]
  },
  {
   "cell_type": "code",
   "execution_count": 79,
   "id": "8b9f07ac",
   "metadata": {},
   "outputs": [],
   "source": [
    "for sublist in nested_list:\n",
    "    for item in sublist:\n",
    "        frequency[item] += 1\n"
   ]
  },
  {
   "cell_type": "code",
   "execution_count": 80,
   "id": "c0c4446a",
   "metadata": {},
   "outputs": [],
   "source": [
    "frequency_dict = dict(frequency)"
   ]
  },
  {
   "cell_type": "code",
   "execution_count": 81,
   "id": "030cd323",
   "metadata": {},
   "outputs": [
    {
     "name": "stdout",
     "output_type": "stream",
     "text": [
      "{1: 1, 2: 2, 3: 2, 4: 3, 5: 1, 6: 2}\n"
     ]
    }
   ],
   "source": [
    "print(frequency_dict)"
   ]
  },
  {
   "cell_type": "markdown",
   "id": "5d0db7c1",
   "metadata": {},
   "source": [
    "# 47. Transpose Matrix: Write a Python program to transpose a given matrix represented as a nested list."
   ]
  },
  {
   "cell_type": "code",
   "execution_count": 82,
   "id": "2e2af1a4",
   "metadata": {},
   "outputs": [],
   "source": [
    "matrix = [\n",
    "    [1, 2, 3],\n",
    "    [4, 5, 6],\n",
    "    [7, 8, 9]\n",
    "]"
   ]
  },
  {
   "cell_type": "code",
   "execution_count": 83,
   "id": "b15e6581",
   "metadata": {},
   "outputs": [],
   "source": [
    "num_rows = len(matrix)\n",
    "num_cols = len(matrix[0])"
   ]
  },
  {
   "cell_type": "code",
   "execution_count": 84,
   "id": "8043dfb0",
   "metadata": {},
   "outputs": [],
   "source": [
    "transposed_matrix = [[0] * num_rows for _ in range(num_cols)]"
   ]
  },
  {
   "cell_type": "code",
   "execution_count": 85,
   "id": "34823b2b",
   "metadata": {},
   "outputs": [],
   "source": [
    "for i in range(num_rows):\n",
    "    for j in range(num_cols):\n",
    "        transposed_matrix[j][i] = matrix[i][j]\n"
   ]
  },
  {
   "cell_type": "code",
   "execution_count": 86,
   "id": "63fcbf5d",
   "metadata": {},
   "outputs": [
    {
     "name": "stdout",
     "output_type": "stream",
     "text": [
      "Transposed Matrix:\n",
      "[1, 4, 7]\n",
      "[2, 5, 8]\n",
      "[3, 6, 9]\n"
     ]
    }
   ],
   "source": [
    "print(\"Transposed Matrix:\")\n",
    "for row in transposed_matrix:\n",
    "    print(row)"
   ]
  },
  {
   "cell_type": "markdown",
   "id": "3662d3ab",
   "metadata": {},
   "source": [
    "# 48. List of Lists Concatenation: Given a list of nested lists, write a Python program to concatenate all the sublists into a single flat list."
   ]
  },
  {
   "cell_type": "code",
   "execution_count": 87,
   "id": "e0b18320",
   "metadata": {},
   "outputs": [],
   "source": [
    "list_of_lists = [[1, 2, 3], [4, 5], [6, 7, 8, 9]]"
   ]
  },
  {
   "cell_type": "code",
   "execution_count": 88,
   "id": "e9c5c42e",
   "metadata": {},
   "outputs": [],
   "source": [
    "flat_list = []"
   ]
  },
  {
   "cell_type": "code",
   "execution_count": 89,
   "id": "ee026ad6",
   "metadata": {},
   "outputs": [],
   "source": [
    "for sublist in list_of_lists:\n",
    "    flat_list.extend(sublist)"
   ]
  },
  {
   "cell_type": "code",
   "execution_count": 90,
   "id": "233195bd",
   "metadata": {},
   "outputs": [
    {
     "name": "stdout",
     "output_type": "stream",
     "text": [
      "Concatenated Flat List: [1, 2, 3, 4, 5, 6, 7, 8, 9]\n"
     ]
    }
   ],
   "source": [
    "print(\"Concatenated Flat List:\", flat_list)"
   ]
  },
  {
   "cell_type": "markdown",
   "id": "52b66f0d",
   "metadata": {},
   "source": [
    "# Tuple Problems:"
   ]
  },
  {
   "cell_type": "markdown",
   "id": "f2928b9a",
   "metadata": {},
   "source": [
    "# 49. Tuple Concatenation: Write a Python program to concatenate two tuples and create a new tuple."
   ]
  },
  {
   "cell_type": "code",
   "execution_count": 91,
   "id": "8b8ed8d5",
   "metadata": {},
   "outputs": [],
   "source": [
    "tuple1 = (1, 2, 3)\n",
    "tuple2 = (4, 5, 6)"
   ]
  },
  {
   "cell_type": "code",
   "execution_count": 92,
   "id": "6e83fbdc",
   "metadata": {},
   "outputs": [],
   "source": [
    "concatenated_tuple = tuple1 + tuple2"
   ]
  },
  {
   "cell_type": "code",
   "execution_count": 93,
   "id": "3e536c1d",
   "metadata": {},
   "outputs": [
    {
     "name": "stdout",
     "output_type": "stream",
     "text": [
      "Concatenated Tuple: (1, 2, 3, 4, 5, 6)\n"
     ]
    }
   ],
   "source": [
    "print(\"Concatenated Tuple:\", concatenated_tuple)"
   ]
  },
  {
   "cell_type": "markdown",
   "id": "8d1b51f8",
   "metadata": {},
   "source": [
    "# 50. Tuple Unpacking: Given a tuple with three elements (x, y, z), write a Python program to unpack the tuple and assign the values to three variables."
   ]
  },
  {
   "cell_type": "code",
   "execution_count": 94,
   "id": "59e0559a",
   "metadata": {},
   "outputs": [],
   "source": [
    "tuple_data = (10, 20, 30)"
   ]
  },
  {
   "cell_type": "code",
   "execution_count": 95,
   "id": "2a258863",
   "metadata": {},
   "outputs": [],
   "source": [
    "x, y, z = tuple_data"
   ]
  },
  {
   "cell_type": "code",
   "execution_count": 96,
   "id": "c1f9d828",
   "metadata": {},
   "outputs": [
    {
     "name": "stdout",
     "output_type": "stream",
     "text": [
      "x = 10\n",
      "y = 20\n",
      "z = 30\n"
     ]
    }
   ],
   "source": [
    "print(\"x =\", x)\n",
    "print(\"y =\", y)\n",
    "print(\"z =\", z)"
   ]
  },
  {
   "cell_type": "markdown",
   "id": "0d409c42",
   "metadata": {},
   "source": [
    "# 51. Tuple Sorting: Write a Python program to sort a tuple of integers in ascending order."
   ]
  },
  {
   "cell_type": "code",
   "execution_count": 97,
   "id": "6bb5d05c",
   "metadata": {},
   "outputs": [],
   "source": [
    "tuple_data = (5, 2, 9, 1, 5, 6)"
   ]
  },
  {
   "cell_type": "code",
   "execution_count": 98,
   "id": "981aaf38",
   "metadata": {},
   "outputs": [],
   "source": [
    "list_data = list(tuple_data)"
   ]
  },
  {
   "cell_type": "code",
   "execution_count": 99,
   "id": "48811608",
   "metadata": {},
   "outputs": [],
   "source": [
    "list_data.sort()"
   ]
  },
  {
   "cell_type": "code",
   "execution_count": 100,
   "id": "f1f18252",
   "metadata": {},
   "outputs": [],
   "source": [
    "sorted_tuple = tuple(list_data)"
   ]
  },
  {
   "cell_type": "code",
   "execution_count": 101,
   "id": "20b71b33",
   "metadata": {},
   "outputs": [
    {
     "name": "stdout",
     "output_type": "stream",
     "text": [
      "Sorted Tuple: (1, 2, 5, 5, 6, 9)\n"
     ]
    }
   ],
   "source": [
    "print(\"Sorted Tuple:\", sorted_tuple)"
   ]
  },
  {
   "cell_type": "markdown",
   "id": "ab56a895",
   "metadata": {},
   "source": [
    "# 52. Tuple Frequency Count: Given a tuple containing various elements, write a Python program to count the frequency of a specific element in the tuple."
   ]
  },
  {
   "cell_type": "code",
   "execution_count": 102,
   "id": "e613be89",
   "metadata": {},
   "outputs": [],
   "source": [
    "tuple_data = (1, 2, 3, 2, 4, 2, 5, 6, 2)"
   ]
  },
  {
   "cell_type": "code",
   "execution_count": 103,
   "id": "08f91227",
   "metadata": {},
   "outputs": [],
   "source": [
    "element_to_count = 2"
   ]
  },
  {
   "cell_type": "code",
   "execution_count": 104,
   "id": "4978e354",
   "metadata": {},
   "outputs": [],
   "source": [
    "frequency = tuple_data.count(element_to_count)"
   ]
  },
  {
   "cell_type": "code",
   "execution_count": 105,
   "id": "3f47e2ab",
   "metadata": {},
   "outputs": [
    {
     "name": "stdout",
     "output_type": "stream",
     "text": [
      "The frequency of 2 in the tuple is: 4\n"
     ]
    }
   ],
   "source": [
    "print(f\"The frequency of {element_to_count} in the tuple is:\", frequency)"
   ]
  },
  {
   "cell_type": "markdown",
   "id": "4f1018eb",
   "metadata": {},
   "source": [
    "# 53. Tuple to List: Write a Python program to convert a tuple into a list. "
   ]
  },
  {
   "cell_type": "code",
   "execution_count": 106,
   "id": "74f24d4d",
   "metadata": {},
   "outputs": [],
   "source": [
    "tuple_data = (1, 2, 3, 4, 5)"
   ]
  },
  {
   "cell_type": "code",
   "execution_count": 107,
   "id": "94715465",
   "metadata": {},
   "outputs": [],
   "source": [
    "list_data = list(tuple_data)"
   ]
  },
  {
   "cell_type": "code",
   "execution_count": 108,
   "id": "b7a307a2",
   "metadata": {},
   "outputs": [
    {
     "name": "stdout",
     "output_type": "stream",
     "text": [
      "List: [1, 2, 3, 4, 5]\n"
     ]
    }
   ],
   "source": [
    "print(\"List:\", list_data)"
   ]
  },
  {
   "cell_type": "markdown",
   "id": "1c14b93f",
   "metadata": {},
   "source": [
    "# 54. Tuple Reversal: Write a Python program to reverse a tuple without using any built-in functions."
   ]
  },
  {
   "cell_type": "code",
   "execution_count": 116,
   "id": "e7844725",
   "metadata": {},
   "outputs": [],
   "source": [
    "original_tuple = (1, 2, 3, 4, 5)"
   ]
  },
  {
   "cell_type": "code",
   "execution_count": 117,
   "id": "bf6ffe4f",
   "metadata": {},
   "outputs": [],
   "source": [
    "reversed_tuple = ()\n"
   ]
  },
  {
   "cell_type": "code",
   "execution_count": 118,
   "id": "a4df1013",
   "metadata": {},
   "outputs": [],
   "source": [
    "for item in original_tuple:\n",
    "    reversed_tuple = (item,) + reversed_tuple\n"
   ]
  },
  {
   "cell_type": "code",
   "execution_count": 119,
   "id": "d4070ff1",
   "metadata": {},
   "outputs": [
    {
     "name": "stdout",
     "output_type": "stream",
     "text": [
      "Original Tuple: (1, 2, 3, 4, 5)\n",
      "Reversed Tuple: (5, 4, 3, 2, 1)\n"
     ]
    }
   ],
   "source": [
    "print(\"Original Tuple:\", original_tuple)\n",
    "print(\"Reversed Tuple:\", reversed_tuple)"
   ]
  },
  {
   "cell_type": "markdown",
   "id": "69e4665b",
   "metadata": {},
   "source": [
    "# 55. Tuple Slicing: Given a tuple, write a Python program to extract a slice of elements from it."
   ]
  },
  {
   "cell_type": "code",
   "execution_count": 120,
   "id": "8e2f9d31",
   "metadata": {},
   "outputs": [],
   "source": [
    "my_tuple = (10, 20, 30, 40, 50, 60, 70, 80, 90)"
   ]
  },
  {
   "cell_type": "code",
   "execution_count": 121,
   "id": "de995111",
   "metadata": {},
   "outputs": [],
   "source": [
    "slice_of_tuple = my_tuple[2:6]\n"
   ]
  },
  {
   "cell_type": "code",
   "execution_count": 122,
   "id": "cee16602",
   "metadata": {},
   "outputs": [
    {
     "name": "stdout",
     "output_type": "stream",
     "text": [
      "Original Tuple: (10, 20, 30, 40, 50, 60, 70, 80, 90)\n",
      "Extracted Slice: (30, 40, 50, 60)\n"
     ]
    }
   ],
   "source": [
    "print(\"Original Tuple:\", my_tuple)\n",
    "print(\"Extracted Slice:\", slice_of_tuple)"
   ]
  },
  {
   "cell_type": "markdown",
   "id": "cbed7954",
   "metadata": {},
   "source": [
    "# 56. Tuple Operations: Given two tuples of integers, write a Python program to perform element-wise addition, subtraction, and multiplication and create new tuples for each operation."
   ]
  },
  {
   "cell_type": "code",
   "execution_count": 123,
   "id": "9d981103",
   "metadata": {},
   "outputs": [],
   "source": [
    "tuple1 = (1, 2, 3, 4)\n",
    "tuple2 = (5, 6, 7, 8)\n"
   ]
  },
  {
   "cell_type": "code",
   "execution_count": 124,
   "id": "276999e9",
   "metadata": {},
   "outputs": [],
   "source": [
    "if len(tuple1) != len(tuple2):\n",
    "    raise ValueError(\"Both tuples must be of the same length\")\n"
   ]
  },
  {
   "cell_type": "code",
   "execution_count": 125,
   "id": "e76807e0",
   "metadata": {},
   "outputs": [],
   "source": [
    "addition_result = ()\n",
    "subtraction_result = ()\n",
    "multiplication_result = ()\n"
   ]
  },
  {
   "cell_type": "code",
   "execution_count": 126,
   "id": "85f6edf3",
   "metadata": {},
   "outputs": [],
   "source": [
    "for i in range(len(tuple1)):\n",
    "    addition_result += (tuple1[i] + tuple2[i],)\n",
    "    subtraction_result += (tuple1[i] - tuple2[i],)\n",
    "    multiplication_result += (tuple1[i] * tuple2[i],)"
   ]
  },
  {
   "cell_type": "code",
   "execution_count": 127,
   "id": "a8c1cde5",
   "metadata": {},
   "outputs": [
    {
     "name": "stdout",
     "output_type": "stream",
     "text": [
      "Tuple 1: (1, 2, 3, 4)\n",
      "Tuple 2: (5, 6, 7, 8)\n",
      "Element-wise Addition: (6, 8, 10, 12)\n",
      "Element-wise Subtraction: (-4, -4, -4, -4)\n",
      "Element-wise Multiplication: (5, 12, 21, 32)\n"
     ]
    }
   ],
   "source": [
    "print(\"Tuple 1:\", tuple1)\n",
    "print(\"Tuple 2:\", tuple2)\n",
    "print(\"Element-wise Addition:\", addition_result)\n",
    "print(\"Element-wise Subtraction:\", subtraction_result)\n",
    "print(\"Element-wise Multiplication:\", multiplication_result)"
   ]
  },
  {
   "cell_type": "markdown",
   "id": "56c9a9a3",
   "metadata": {},
   "source": [
    "# 57. Tuple Membership Test: Write a Python program that takes an element as input and checks if it exists in a given tuple."
   ]
  },
  {
   "cell_type": "code",
   "execution_count": 142,
   "id": "e4231869",
   "metadata": {},
   "outputs": [],
   "source": [
    "my_tuple = (\"apple\", \"banana\", \"cherry\", \"date\", \"fig\")"
   ]
  },
  {
   "cell_type": "code",
   "execution_count": 143,
   "id": "0746163b",
   "metadata": {},
   "outputs": [
    {
     "name": "stdout",
     "output_type": "stream",
     "text": [
      "Enter an element to check for membership: apple\n"
     ]
    }
   ],
   "source": [
    "element = input(\"Enter an element to check for membership: \")"
   ]
  },
  {
   "cell_type": "code",
   "execution_count": 144,
   "id": "29dc3f99",
   "metadata": {},
   "outputs": [
    {
     "name": "stdout",
     "output_type": "stream",
     "text": [
      "apple is present in the tuple.\n"
     ]
    }
   ],
   "source": [
    "if element in my_tuple:\n",
    "    print(f\"{element} is present in the tuple.\")\n",
    "else:\n",
    "    print(f\"{element} is not present in the tuple.\")"
   ]
  },
  {
   "cell_type": "markdown",
   "id": "bce26dcb",
   "metadata": {},
   "source": [
    "# 58. Tuple Packing: Write a Python program to pack three variables into a single tuple and print the tuple."
   ]
  },
  {
   "cell_type": "code",
   "execution_count": 145,
   "id": "7473e643",
   "metadata": {},
   "outputs": [],
   "source": [
    "var1 = 10\n",
    "var2 = \"Hello\"\n",
    "var3 = 3.14"
   ]
  },
  {
   "cell_type": "code",
   "execution_count": 146,
   "id": "f8711a0d",
   "metadata": {},
   "outputs": [],
   "source": [
    "packed_tuple = (var1, var2, var3)"
   ]
  },
  {
   "cell_type": "code",
   "execution_count": 147,
   "id": "7fb20fdd",
   "metadata": {},
   "outputs": [
    {
     "name": "stdout",
     "output_type": "stream",
     "text": [
      "Packed Tuple: (10, 'Hello', 3.14)\n"
     ]
    }
   ],
   "source": [
    "print(\"Packed Tuple:\", packed_tuple)"
   ]
  },
  {
   "cell_type": "markdown",
   "id": "633d3451",
   "metadata": {},
   "source": [
    "# Nested List Problems:"
   ]
  },
  {
   "cell_type": "markdown",
   "id": "547686c2",
   "metadata": {},
   "source": [
    "# 59. Nested List Element Access: Given a nested list, write a Python program to access and print specific elements from it."
   ]
  },
  {
   "cell_type": "code",
   "execution_count": 148,
   "id": "bb8785ce",
   "metadata": {},
   "outputs": [],
   "source": [
    "nested_list = [\n",
    "    [1, 2, 3],\n",
    "    ['a', 'b', 'c'],\n",
    "    [10.1, 10.2, 10.3],\n",
    "    [True, False, True]\n",
    "]\n"
   ]
  },
  {
   "cell_type": "code",
   "execution_count": 149,
   "id": "84f998ba",
   "metadata": {},
   "outputs": [],
   "source": [
    "element1 = nested_list[0][1]  \n",
    "element2 = nested_list[1][2]  \n",
    "element3 = nested_list[2][0]  \n",
    "element4 = nested_list[3][2]"
   ]
  },
  {
   "cell_type": "code",
   "execution_count": 150,
   "id": "98a8bc01",
   "metadata": {},
   "outputs": [
    {
     "name": "stdout",
     "output_type": "stream",
     "text": [
      "Element from the first sub-list: 2\n",
      "Element from the second sub-list: c\n",
      "Element from the third sub-list: 10.1\n",
      "Element from the fourth sub-list: True\n"
     ]
    }
   ],
   "source": [
    "print(\"Element from the first sub-list:\", element1)\n",
    "print(\"Element from the second sub-list:\", element2)\n",
    "print(\"Element from the third sub-list:\", element3)\n",
    "print(\"Element from the fourth sub-list:\", element4)"
   ]
  },
  {
   "cell_type": "markdown",
   "id": "53322c80",
   "metadata": {},
   "source": [
    "# 60. Nested List Flattening: Write a Python program to flatten a nested list and convert it into a single-dimensional list."
   ]
  },
  {
   "cell_type": "code",
   "execution_count": 151,
   "id": "e92afa67",
   "metadata": {},
   "outputs": [],
   "source": [
    "nested_list = [1, [2, [3, 4], 5], [6, [7, [8, 9]], 10]]"
   ]
  },
  {
   "cell_type": "code",
   "execution_count": 152,
   "id": "3c36ad21",
   "metadata": {},
   "outputs": [],
   "source": [
    "flattened_list = []\n",
    "stack = list(nested_list)"
   ]
  },
  {
   "cell_type": "code",
   "execution_count": 153,
   "id": "eb5c5c14",
   "metadata": {},
   "outputs": [],
   "source": [
    "while stack:\n",
    "    element = stack.pop()\n",
    "    if isinstance(element, list):\n",
    "        stack.extend(element)\n",
    "    else:\n",
    "        flattened_list.append(element)"
   ]
  },
  {
   "cell_type": "code",
   "execution_count": 154,
   "id": "3633f58d",
   "metadata": {},
   "outputs": [
    {
     "name": "stdout",
     "output_type": "stream",
     "text": [
      "Flattened List: [10, 9, 8, 7, 6, 5, 4, 3, 2, 1]\n"
     ]
    }
   ],
   "source": [
    "print(\"Flattened List:\", flattened_list)"
   ]
  },
  {
   "cell_type": "markdown",
   "id": "e19a32c7",
   "metadata": {},
   "source": [
    "# 61. Nested List Sorting: Given a nested list containing lists of integers, write a Python program to sort the sublists based on their lengths."
   ]
  },
  {
   "cell_type": "code",
   "execution_count": 155,
   "id": "ce976935",
   "metadata": {},
   "outputs": [],
   "source": [
    "nested_list = [[3, 1, 4], [1, 5, 9, 2], [6], [8, 7, 3, 1, 2]]"
   ]
  },
  {
   "cell_type": "code",
   "execution_count": 156,
   "id": "bb705bab",
   "metadata": {},
   "outputs": [],
   "source": [
    "sorted_nested_list = sorted(nested_list, key=len)"
   ]
  },
  {
   "cell_type": "code",
   "execution_count": 157,
   "id": "ae2270b5",
   "metadata": {},
   "outputs": [
    {
     "name": "stdout",
     "output_type": "stream",
     "text": [
      "Sorted Nested List: [[6], [3, 1, 4], [1, 5, 9, 2], [8, 7, 3, 1, 2]]\n"
     ]
    }
   ],
   "source": [
    "print(\"Sorted Nested List:\", sorted_nested_list)"
   ]
  },
  {
   "cell_type": "markdown",
   "id": "3d0a2bd8",
   "metadata": {},
   "source": [
    "# 62. List of Tuples Conversion: Given a nested list containing tuples of (x, y) coordinates, write a Python program to convert it into a list of x-coordinates and a list of y-coordinates."
   ]
  },
  {
   "cell_type": "code",
   "execution_count": 1,
   "id": "56e7b892",
   "metadata": {},
   "outputs": [],
   "source": [
    "nested_list = [(1, 2), (3, 4), (5, 6), (7, 8)]"
   ]
  },
  {
   "cell_type": "code",
   "execution_count": 2,
   "id": "112b6615",
   "metadata": {},
   "outputs": [],
   "source": [
    "x_coords = []\n",
    "y_coords = []"
   ]
  },
  {
   "cell_type": "code",
   "execution_count": 3,
   "id": "f26a1f10",
   "metadata": {},
   "outputs": [],
   "source": [
    "for pair in nested_list:\n",
    "    x_coords.append(pair[0])\n",
    "    y_coords.append(pair[1])"
   ]
  },
  {
   "cell_type": "code",
   "execution_count": 4,
   "id": "55e47122",
   "metadata": {},
   "outputs": [
    {
     "name": "stdout",
     "output_type": "stream",
     "text": [
      "List of x-coordinates: [1, 3, 5, 7]\n",
      "List of y-coordinates: [2, 4, 6, 8]\n"
     ]
    }
   ],
   "source": [
    "print(\"List of x-coordinates:\", x_coords)\n",
    "print(\"List of y-coordinates:\", y_coords)"
   ]
  },
  {
   "cell_type": "markdown",
   "id": "1407eac4",
   "metadata": {},
   "source": [
    "# 63. Matrix Transpose: Write a Python program to transpose a given matrix represented as a nested list."
   ]
  },
  {
   "cell_type": "code",
   "execution_count": 5,
   "id": "9239a4e4",
   "metadata": {},
   "outputs": [],
   "source": [
    "matrix = [\n",
    "    [1, 2, 3],\n",
    "    [4, 5, 6],\n",
    "    [7, 8, 9]\n",
    "]"
   ]
  },
  {
   "cell_type": "code",
   "execution_count": 6,
   "id": "d27da823",
   "metadata": {},
   "outputs": [],
   "source": [
    "transposed_matrix = []"
   ]
  },
  {
   "cell_type": "code",
   "execution_count": 7,
   "id": "d4c45113",
   "metadata": {},
   "outputs": [],
   "source": [
    "for i in range(len(matrix[0])):  \n",
    "    row = []\n",
    "    for j in range(len(matrix)):  \n",
    "        row.append(matrix[j][i])  \n",
    "    transposed_matrix.append(row)"
   ]
  },
  {
   "cell_type": "code",
   "execution_count": 10,
   "id": "0f16a563",
   "metadata": {},
   "outputs": [
    {
     "name": "stdout",
     "output_type": "stream",
     "text": [
      "\n",
      "Transposed Matrix:\n",
      "[1, 4, 7]\n",
      "[2, 5, 8]\n",
      "[3, 6, 9]\n"
     ]
    }
   ],
   "source": [
    "print(\"\\nTransposed Matrix:\")\n",
    "for row in transposed_matrix:\n",
    "    print(row)"
   ]
  },
  {
   "cell_type": "markdown",
   "id": "e9cad373",
   "metadata": {},
   "source": [
    "# 64. Nested List Concatenation: Given a list of nested lists, write a Python program to concatenate all the sublists into a single flat list."
   ]
  },
  {
   "cell_type": "code",
   "execution_count": 11,
   "id": "86d26088",
   "metadata": {},
   "outputs": [],
   "source": [
    "nested_list = [[1, 2], [3, 4], [5, 6], [7, 8]]"
   ]
  },
  {
   "cell_type": "code",
   "execution_count": 12,
   "id": "1678553d",
   "metadata": {},
   "outputs": [],
   "source": [
    "flat_list = []"
   ]
  },
  {
   "cell_type": "code",
   "execution_count": 13,
   "id": "db158e5c",
   "metadata": {},
   "outputs": [],
   "source": [
    "for sublist in nested_list:\n",
    "    flat_list.extend(sublist) "
   ]
  },
  {
   "cell_type": "code",
   "execution_count": 14,
   "id": "b5f08392",
   "metadata": {},
   "outputs": [
    {
     "name": "stdout",
     "output_type": "stream",
     "text": [
      "Concatenated flat list: [1, 2, 3, 4, 5, 6, 7, 8]\n"
     ]
    }
   ],
   "source": [
    "print(\"Concatenated flat list:\", flat_list)"
   ]
  },
  {
   "cell_type": "markdown",
   "id": "b208e0c3",
   "metadata": {},
   "source": [
    "# 65. Count Even Numbers: Write a Python program to count the number of even numbers in a nested list."
   ]
  },
  {
   "cell_type": "code",
   "execution_count": 15,
   "id": "2334cbc0",
   "metadata": {},
   "outputs": [],
   "source": [
    "nested_list = [[1, 2, 3], [4, 5, 6], [7, 8, 9]]"
   ]
  },
  {
   "cell_type": "code",
   "execution_count": 16,
   "id": "13eb0188",
   "metadata": {},
   "outputs": [],
   "source": [
    "even_count = 0"
   ]
  },
  {
   "cell_type": "code",
   "execution_count": 17,
   "id": "313bbc6f",
   "metadata": {},
   "outputs": [],
   "source": [
    "for sublist in nested_list:\n",
    "    for num in sublist:\n",
    "        if num % 2 == 0:  \n",
    "            even_count += 1"
   ]
  },
  {
   "cell_type": "code",
   "execution_count": 18,
   "id": "c2316a44",
   "metadata": {},
   "outputs": [
    {
     "name": "stdout",
     "output_type": "stream",
     "text": [
      "Number of even numbers: 4\n"
     ]
    }
   ],
   "source": [
    "print(\"Number of even numbers:\", even_count)"
   ]
  },
  {
   "cell_type": "markdown",
   "id": "647eea63",
   "metadata": {},
   "source": [
    "# 66. Maximum Element in Nested List: Write a Python program to find the maximum element in a nested list of integers."
   ]
  },
  {
   "cell_type": "code",
   "execution_count": 19,
   "id": "e3d58d72",
   "metadata": {},
   "outputs": [],
   "source": [
    "nested_list = [[3, 5, 7], [2, 8, 6], [9, 1, 4]]"
   ]
  },
  {
   "cell_type": "code",
   "execution_count": 20,
   "id": "83275774",
   "metadata": {},
   "outputs": [],
   "source": [
    "max_element = nested_list[0][0]"
   ]
  },
  {
   "cell_type": "code",
   "execution_count": 21,
   "id": "947918f0",
   "metadata": {},
   "outputs": [],
   "source": [
    "for sublist in nested_list:\n",
    "    for num in sublist:\n",
    "        if num > max_element:\n",
    "            max_element = num\n"
   ]
  },
  {
   "cell_type": "code",
   "execution_count": 22,
   "id": "731c56f1",
   "metadata": {},
   "outputs": [
    {
     "name": "stdout",
     "output_type": "stream",
     "text": [
      "Maximum element in the nested list: 9\n"
     ]
    }
   ],
   "source": [
    "print(\"Maximum element in the nested list:\", max_element)"
   ]
  },
  {
   "cell_type": "markdown",
   "id": "5d5bbc15",
   "metadata": {},
   "source": [
    "# 67. Diagonal Sum of Matrix: Given a square matrix represented as a nested list, write a Python program to calculate the sum of the elements in the main diagonal."
   ]
  },
  {
   "cell_type": "code",
   "execution_count": 23,
   "id": "3b69261e",
   "metadata": {},
   "outputs": [],
   "source": [
    "matrix = [\n",
    "    [1, 2, 3],\n",
    "    [4, 5, 6],\n",
    "    [7, 8, 9]\n",
    "]\n"
   ]
  },
  {
   "cell_type": "code",
   "execution_count": 24,
   "id": "257668cf",
   "metadata": {},
   "outputs": [],
   "source": [
    "diagonal_sum = 0\n"
   ]
  },
  {
   "cell_type": "code",
   "execution_count": 25,
   "id": "04a80136",
   "metadata": {},
   "outputs": [],
   "source": [
    "for i in range(len(matrix)):\n",
    "    diagonal_sum += matrix[i][i] "
   ]
  },
  {
   "cell_type": "code",
   "execution_count": 26,
   "id": "10c480f8",
   "metadata": {},
   "outputs": [
    {
     "name": "stdout",
     "output_type": "stream",
     "text": [
      "Sum of the main diagonal elements: 15\n"
     ]
    }
   ],
   "source": [
    "print(\"Sum of the main diagonal elements:\", diagonal_sum)"
   ]
  },
  {
   "cell_type": "markdown",
   "id": "add8c0fa",
   "metadata": {},
   "source": [
    "# 68. Nested List Element Search: Write a Python program to search for a specific element in a nested list and return its position (row and column indices)."
   ]
  },
  {
   "cell_type": "code",
   "execution_count": 27,
   "id": "c2c0030c",
   "metadata": {},
   "outputs": [],
   "source": [
    "nested_list = [\n",
    "    [10, 20, 30],\n",
    "    [40, 50, 60],\n",
    "    [70, 80, 90]\n",
    "]"
   ]
  },
  {
   "cell_type": "code",
   "execution_count": 28,
   "id": "79220262",
   "metadata": {},
   "outputs": [],
   "source": [
    "target = 50\n",
    "found = False"
   ]
  },
  {
   "cell_type": "code",
   "execution_count": 29,
   "id": "22903b99",
   "metadata": {},
   "outputs": [
    {
     "name": "stdout",
     "output_type": "stream",
     "text": [
      "Element 50 found at position: (1, 1)\n"
     ]
    }
   ],
   "source": [
    "for i in range(len(nested_list)):\n",
    "    for j in range(len(nested_list[i])):\n",
    "        if nested_list[i][j] == target:\n",
    "            print(f\"Element {target} found at position: ({i}, {j})\")\n",
    "            found = True\n",
    "            break"
   ]
  },
  {
   "cell_type": "markdown",
   "id": "90b75118",
   "metadata": {},
   "source": [
    "# Set Problems:"
   ]
  },
  {
   "cell_type": "markdown",
   "id": "d58f5307",
   "metadata": {},
   "source": [
    "# 69. Duplicate Removal: Write a Python program that takes a list of elements as input and creates a new set containing only the unique elements from the list."
   ]
  },
  {
   "cell_type": "code",
   "execution_count": 30,
   "id": "1b39a590",
   "metadata": {},
   "outputs": [],
   "source": [
    "input_list = [1, 2, 2, 3, 4, 4, 5, 6, 6, 7, 8, 8, 9]\n"
   ]
  },
  {
   "cell_type": "code",
   "execution_count": 31,
   "id": "0870844a",
   "metadata": {},
   "outputs": [],
   "source": [
    "unique_elements = set(input_list)"
   ]
  },
  {
   "cell_type": "code",
   "execution_count": 32,
   "id": "7543302a",
   "metadata": {},
   "outputs": [
    {
     "name": "stdout",
     "output_type": "stream",
     "text": [
      "Unique elements: {1, 2, 3, 4, 5, 6, 7, 8, 9}\n"
     ]
    }
   ],
   "source": [
    "print(\"Unique elements:\", unique_elements)"
   ]
  },
  {
   "cell_type": "markdown",
   "id": "da120f79",
   "metadata": {},
   "source": [
    "# 70. Set Intersection: Given two sets A and B, write a Python program to find their intersection and print the common elements."
   ]
  },
  {
   "cell_type": "code",
   "execution_count": 33,
   "id": "03bdce8b",
   "metadata": {},
   "outputs": [],
   "source": [
    "set_A = {1, 2, 3, 4, 5}\n",
    "set_B = {4, 5, 6, 7, 8}"
   ]
  },
  {
   "cell_type": "code",
   "execution_count": 34,
   "id": "74bd0643",
   "metadata": {},
   "outputs": [],
   "source": [
    "intersection = set_A & set_B"
   ]
  },
  {
   "cell_type": "code",
   "execution_count": 35,
   "id": "37ca7c8c",
   "metadata": {},
   "outputs": [
    {
     "name": "stdout",
     "output_type": "stream",
     "text": [
      "Common elements: {4, 5}\n"
     ]
    }
   ],
   "source": [
    "print(\"Common elements:\", intersection)"
   ]
  },
  {
   "cell_type": "markdown",
   "id": "78efbd1d",
   "metadata": {},
   "source": [
    "# 71. Set Union: Given two sets A and B, write a Python program to find their union and print all the distinct elements from both sets."
   ]
  },
  {
   "cell_type": "code",
   "execution_count": 36,
   "id": "9c2c9032",
   "metadata": {},
   "outputs": [],
   "source": [
    "set_A = {1, 2, 3, 4, 5}\n",
    "set_B = {4, 5, 6, 7, 8}"
   ]
  },
  {
   "cell_type": "code",
   "execution_count": 37,
   "id": "5e82ccc1",
   "metadata": {},
   "outputs": [],
   "source": [
    "union = set_A | set_B"
   ]
  },
  {
   "cell_type": "code",
   "execution_count": 38,
   "id": "b1e421cf",
   "metadata": {},
   "outputs": [
    {
     "name": "stdout",
     "output_type": "stream",
     "text": [
      "Distinct elements from both sets: {1, 2, 3, 4, 5, 6, 7, 8}\n"
     ]
    }
   ],
   "source": [
    "print(\"Distinct elements from both sets:\", union)"
   ]
  },
  {
   "cell_type": "markdown",
   "id": "21053895",
   "metadata": {},
   "source": [
    "# 72. Set Difference: Given two sets A and B, write a Python program to find the difference between set A and set B (i.e., elements present in A but not in B) and print the result."
   ]
  },
  {
   "cell_type": "code",
   "execution_count": 39,
   "id": "884dd1a0",
   "metadata": {},
   "outputs": [],
   "source": [
    "set_A = {1, 2, 3, 4, 5}\n",
    "set_B = {4, 5, 6, 7, 8}"
   ]
  },
  {
   "cell_type": "code",
   "execution_count": 40,
   "id": "032cc03c",
   "metadata": {},
   "outputs": [],
   "source": [
    "difference = set_A - set_B"
   ]
  },
  {
   "cell_type": "code",
   "execution_count": 41,
   "id": "9519298b",
   "metadata": {},
   "outputs": [
    {
     "name": "stdout",
     "output_type": "stream",
     "text": [
      "Elements present in A but not in B: {1, 2, 3}\n"
     ]
    }
   ],
   "source": [
    "print(\"Elements present in A but not in B:\", difference)"
   ]
  },
  {
   "cell_type": "markdown",
   "id": "91fb263c",
   "metadata": {},
   "source": [
    "# 73. Set Symmetric Difference: Given two sets A and B, write a Python program to find the symmetric difference between the two sets (i.e., elements that are present in either set A or set B, but not in both) and print the result."
   ]
  },
  {
   "cell_type": "code",
   "execution_count": 42,
   "id": "4ca4d18c",
   "metadata": {},
   "outputs": [],
   "source": [
    "set_A = {1, 2, 3, 4, 5}\n",
    "set_B = {4, 5, 6, 7, 8}"
   ]
  },
  {
   "cell_type": "code",
   "execution_count": 43,
   "id": "89e5a824",
   "metadata": {},
   "outputs": [],
   "source": [
    "symmetric_difference = set_A ^ set_B"
   ]
  },
  {
   "cell_type": "code",
   "execution_count": 44,
   "id": "a4894338",
   "metadata": {},
   "outputs": [
    {
     "name": "stdout",
     "output_type": "stream",
     "text": [
      "Symmetric difference (elements in A or B, but not both): {1, 2, 3, 6, 7, 8}\n"
     ]
    }
   ],
   "source": [
    "print(\"Symmetric difference (elements in A or B, but not both):\", symmetric_difference)"
   ]
  },
  {
   "cell_type": "markdown",
   "id": "2f6ee928",
   "metadata": {},
   "source": [
    "# 74. Set Operations: Given three sets A, B, and C, write a Python program to find and print the intersection of A and B, the union of B and C, and the difference between C and A."
   ]
  },
  {
   "cell_type": "code",
   "execution_count": 45,
   "id": "aaf80e63",
   "metadata": {},
   "outputs": [],
   "source": [
    "set_A = {1, 2, 3, 4, 5}\n",
    "set_B = {4, 5, 6, 7, 8}\n",
    "set_C = {6, 7, 8, 9, 10}"
   ]
  },
  {
   "cell_type": "code",
   "execution_count": 46,
   "id": "d88ca0af",
   "metadata": {},
   "outputs": [],
   "source": [
    "intersection_A_B = set_A & set_B"
   ]
  },
  {
   "cell_type": "code",
   "execution_count": 47,
   "id": "956434db",
   "metadata": {},
   "outputs": [],
   "source": [
    "union_B_C = set_B | set_C"
   ]
  },
  {
   "cell_type": "code",
   "execution_count": 48,
   "id": "16f1ef18",
   "metadata": {},
   "outputs": [],
   "source": [
    "difference_C_A = set_C - set_A "
   ]
  },
  {
   "cell_type": "code",
   "execution_count": 49,
   "id": "2b5ee9b5",
   "metadata": {},
   "outputs": [
    {
     "name": "stdout",
     "output_type": "stream",
     "text": [
      "Intersection of A and B: {4, 5}\n",
      "Union of B and C: {4, 5, 6, 7, 8, 9, 10}\n",
      "Difference between C and A: {6, 7, 8, 9, 10}\n"
     ]
    }
   ],
   "source": [
    "print(\"Intersection of A and B:\", intersection_A_B)\n",
    "print(\"Union of B and C:\", union_B_C)\n",
    "print(\"Difference between C and A:\", difference_C_A)"
   ]
  },
  {
   "cell_type": "markdown",
   "id": "994bc98d",
   "metadata": {},
   "source": [
    "# 75. Set Subset Check: Given two sets A and B, write a Python program to check if set A is a subset of set B and print the result."
   ]
  },
  {
   "cell_type": "code",
   "execution_count": 50,
   "id": "982aced0",
   "metadata": {},
   "outputs": [],
   "source": [
    "set_A = {1, 2, 3}\n",
    "set_B = {1, 2, 3, 4, 5}"
   ]
  },
  {
   "cell_type": "code",
   "execution_count": 51,
   "id": "0d3c4770",
   "metadata": {},
   "outputs": [],
   "source": [
    "is_subset = set_A.issubset(set_B)"
   ]
  },
  {
   "cell_type": "code",
   "execution_count": 52,
   "id": "95903d4e",
   "metadata": {},
   "outputs": [
    {
     "name": "stdout",
     "output_type": "stream",
     "text": [
      "Set A is a subset of Set B.\n"
     ]
    }
   ],
   "source": [
    "if is_subset:\n",
    "    print(\"Set A is a subset of Set B.\")\n",
    "else:\n",
    "    print(\"Set A is not a subset of Set B.\")"
   ]
  },
  {
   "cell_type": "markdown",
   "id": "b9c0b83f",
   "metadata": {},
   "source": [
    "# 76. Set Superset Check: Given two sets A and B, write a Python program to check if set A is a superset of set B and print the result."
   ]
  },
  {
   "cell_type": "code",
   "execution_count": 53,
   "id": "8252ba0a",
   "metadata": {},
   "outputs": [],
   "source": [
    "set_A = {1, 2, 3, 4, 5}\n",
    "set_B = {2, 3}"
   ]
  },
  {
   "cell_type": "code",
   "execution_count": 54,
   "id": "cc529d49",
   "metadata": {},
   "outputs": [],
   "source": [
    "is_superset = set_A.issuperset(set_B)"
   ]
  },
  {
   "cell_type": "code",
   "execution_count": 55,
   "id": "c0aa902e",
   "metadata": {},
   "outputs": [
    {
     "name": "stdout",
     "output_type": "stream",
     "text": [
      "Set A is a superset of Set B.\n"
     ]
    }
   ],
   "source": [
    "if is_superset:\n",
    "    print(\"Set A is a superset of Set B.\")\n",
    "else:\n",
    "    print(\"Set A is not a superset of Set B.\")"
   ]
  },
  {
   "cell_type": "markdown",
   "id": "ae47a980",
   "metadata": {},
   "source": [
    "# 77. Set Length Check: Write a Python program that takes a set as input and prints the number of elements in the set."
   ]
  },
  {
   "cell_type": "code",
   "execution_count": 56,
   "id": "8be64f73",
   "metadata": {},
   "outputs": [],
   "source": [
    "input_set = {1, 2, 3, 4, 5, 6}"
   ]
  },
  {
   "cell_type": "code",
   "execution_count": 57,
   "id": "e4240c82",
   "metadata": {},
   "outputs": [],
   "source": [
    "set_length = len(input_set)"
   ]
  },
  {
   "cell_type": "code",
   "execution_count": 58,
   "id": "58c8ac45",
   "metadata": {},
   "outputs": [
    {
     "name": "stdout",
     "output_type": "stream",
     "text": [
      "Number of elements in the set: 6\n"
     ]
    }
   ],
   "source": [
    "print(\"Number of elements in the set:\", set_length)"
   ]
  },
  {
   "cell_type": "markdown",
   "id": "d8c01ea2",
   "metadata": {},
   "source": [
    "# 76. Set Membership Test: Write a Python program that takes an element as input and checks if it exists in a given set. Print “Found” if the element is present and “Not Found” otherwise."
   ]
  },
  {
   "cell_type": "code",
   "execution_count": 59,
   "id": "43c66512",
   "metadata": {},
   "outputs": [],
   "source": [
    "my_set = {1, 2, 3, 4, 5, 6}"
   ]
  },
  {
   "cell_type": "code",
   "execution_count": 60,
   "id": "ffa82184",
   "metadata": {},
   "outputs": [
    {
     "name": "stdout",
     "output_type": "stream",
     "text": [
      "Enter an element to check for membership in the set: 4\n"
     ]
    }
   ],
   "source": [
    "element = int(input(\"Enter an element to check for membership in the set: \"))"
   ]
  },
  {
   "cell_type": "code",
   "execution_count": 61,
   "id": "0cb90696",
   "metadata": {},
   "outputs": [
    {
     "name": "stdout",
     "output_type": "stream",
     "text": [
      "Found\n"
     ]
    }
   ],
   "source": [
    "if element in my_set:\n",
    "    print(\"Found\")\n",
    "else:\n",
    "    print(\"Not Found\")"
   ]
  },
  {
   "cell_type": "markdown",
   "id": "bc42b01d",
   "metadata": {},
   "source": [
    "# Dictionary Problems:"
   ]
  },
  {
   "cell_type": "markdown",
   "id": "6f0581d5",
   "metadata": {},
   "source": [
    "# 77. Dictionary Manipulation: Given a dictionary with student names as keys and their corresponding scores as values, write a Python program to add a new student to the dictionary and update the score of an existing student."
   ]
  },
  {
   "cell_type": "code",
   "execution_count": 62,
   "id": "45b2f274",
   "metadata": {},
   "outputs": [],
   "source": [
    "students_scores = {\n",
    "    \"Alice\": 85,\n",
    "    \"Bob\": 90,\n",
    "    \"Charlie\": 78\n",
    "}"
   ]
  },
  {
   "cell_type": "code",
   "execution_count": 63,
   "id": "49b810cd",
   "metadata": {},
   "outputs": [],
   "source": [
    "new_student = \"David\"\n",
    "new_score = 88\n",
    "students_scores[new_student] = new_score"
   ]
  },
  {
   "cell_type": "code",
   "execution_count": 64,
   "id": "0244ae7f",
   "metadata": {},
   "outputs": [],
   "source": [
    "existing_student = \"Alice\"\n",
    "updated_score = 95\n",
    "students_scores[existing_student] = updated_score\n"
   ]
  },
  {
   "cell_type": "code",
   "execution_count": 65,
   "id": "5d039ad2",
   "metadata": {},
   "outputs": [
    {
     "name": "stdout",
     "output_type": "stream",
     "text": [
      "Updated student scores:\n",
      "Alice: 95\n",
      "Bob: 90\n",
      "Charlie: 78\n",
      "David: 88\n"
     ]
    }
   ],
   "source": [
    "print(\"Updated student scores:\")\n",
    "for student, score in students_scores.items():\n",
    "    print(f\"{student}: {score}\")"
   ]
  },
  {
   "cell_type": "markdown",
   "id": "b21c11a0",
   "metadata": {},
   "source": [
    "# 78. Dictionary Keys and Values: Write a Python program that takes a dictionary as input and prints all the keys and values in separate lines."
   ]
  },
  {
   "cell_type": "code",
   "execution_count": 66,
   "id": "c23e6e77",
   "metadata": {},
   "outputs": [],
   "source": [
    "student_scores = {\n",
    "    \"Alice\": 85,\n",
    "    \"Bob\": 90,\n",
    "    \"Charlie\": 78,\n",
    "    \"David\": 88\n",
    "}"
   ]
  },
  {
   "cell_type": "code",
   "execution_count": 67,
   "id": "fc75e963",
   "metadata": {},
   "outputs": [
    {
     "name": "stdout",
     "output_type": "stream",
     "text": [
      "Keys:\n",
      "Alice\n",
      "Bob\n",
      "Charlie\n",
      "David\n"
     ]
    }
   ],
   "source": [
    "print(\"Keys:\")\n",
    "for key in student_scores.keys():\n",
    "    print(key)"
   ]
  },
  {
   "cell_type": "code",
   "execution_count": 68,
   "id": "7cfe0ab6",
   "metadata": {},
   "outputs": [
    {
     "name": "stdout",
     "output_type": "stream",
     "text": [
      "\n",
      "Values:\n",
      "85\n",
      "90\n",
      "78\n",
      "88\n"
     ]
    }
   ],
   "source": [
    "print(\"\\nValues:\")\n",
    "for value in student_scores.values():\n",
    "    print(value)"
   ]
  },
  {
   "cell_type": "markdown",
   "id": "87641c9f",
   "metadata": {},
   "source": [
    "# 79. Dictionary Length: Write a Python program to calculate and print the number of key-value pairs in a given dictionary."
   ]
  },
  {
   "cell_type": "code",
   "execution_count": 69,
   "id": "d5dcc4d1",
   "metadata": {},
   "outputs": [],
   "source": [
    "student_scores = {\n",
    "    \"Alice\": 85,\n",
    "    \"Bob\": 90,\n",
    "    \"Charlie\": 78,\n",
    "    \"David\": 88\n",
    "}"
   ]
  },
  {
   "cell_type": "code",
   "execution_count": 70,
   "id": "b74436b6",
   "metadata": {},
   "outputs": [],
   "source": [
    "num_pairs = len(student_scores)"
   ]
  },
  {
   "cell_type": "code",
   "execution_count": 71,
   "id": "6387c011",
   "metadata": {},
   "outputs": [
    {
     "name": "stdout",
     "output_type": "stream",
     "text": [
      "Number of key-value pairs in the dictionary: 4\n"
     ]
    }
   ],
   "source": [
    "print(\"Number of key-value pairs in the dictionary:\", num_pairs)"
   ]
  },
  {
   "cell_type": "markdown",
   "id": "9ae016e1",
   "metadata": {},
   "source": [
    "# 80. Dictionary Value Search: Given a dictionary of items and their prices, write a Python program to search for an item based on its price and print the item’s name."
   ]
  },
  {
   "cell_type": "code",
   "execution_count": 72,
   "id": "68371995",
   "metadata": {},
   "outputs": [],
   "source": [
    "items_prices = {\n",
    "    \"Apple\": 1.50,\n",
    "    \"Banana\": 0.75,\n",
    "    \"Cherry\": 2.00,\n",
    "    \"Date\": 3.00\n",
    "}"
   ]
  },
  {
   "cell_type": "code",
   "execution_count": 73,
   "id": "2baa6c1e",
   "metadata": {},
   "outputs": [
    {
     "name": "stdout",
     "output_type": "stream",
     "text": [
      "Enter the price to search for: 2\n"
     ]
    }
   ],
   "source": [
    "search_price = float(input(\"Enter the price to search for: \"))\n"
   ]
  },
  {
   "cell_type": "code",
   "execution_count": 74,
   "id": "5b3aba4a",
   "metadata": {},
   "outputs": [],
   "source": [
    "item_found = False"
   ]
  },
  {
   "cell_type": "code",
   "execution_count": 75,
   "id": "3897c53a",
   "metadata": {},
   "outputs": [
    {
     "name": "stdout",
     "output_type": "stream",
     "text": [
      "Item found: Cherry\n"
     ]
    }
   ],
   "source": [
    "for item, price in items_prices.items():\n",
    "    if price == search_price:\n",
    "        print(\"Item found:\", item)\n",
    "        item_found = True\n",
    "        break"
   ]
  },
  {
   "cell_type": "code",
   "execution_count": 76,
   "id": "d17f26a7",
   "metadata": {},
   "outputs": [],
   "source": [
    "if not item_found:\n",
    "    print(\"No item found with that price.\")"
   ]
  },
  {
   "cell_type": "markdown",
   "id": "01b04dee",
   "metadata": {},
   "source": [
    "# 81. Dictionary Merging: Given two dictionaries, write a Python program to merge them into a single dictionary and print the result."
   ]
  },
  {
   "cell_type": "code",
   "execution_count": 77,
   "id": "f375cd71",
   "metadata": {},
   "outputs": [],
   "source": [
    "dict_A = {\n",
    "    \"Alice\": 85,\n",
    "    \"Bob\": 90\n",
    "}\n",
    "\n",
    "dict_B = {\n",
    "    \"Charlie\": 78,\n",
    "    \"David\": 88\n",
    "}"
   ]
  },
  {
   "cell_type": "code",
   "execution_count": 78,
   "id": "1a553cb4",
   "metadata": {},
   "outputs": [],
   "source": [
    "merged_dict_1 = dict_A.copy()  \n",
    "merged_dict_1.update(dict_B) "
   ]
  },
  {
   "cell_type": "code",
   "execution_count": 79,
   "id": "0e69273b",
   "metadata": {},
   "outputs": [],
   "source": [
    "merged_dict_2 = {**dict_A, **dict_B}"
   ]
  },
  {
   "cell_type": "code",
   "execution_count": 80,
   "id": "50aea484",
   "metadata": {},
   "outputs": [
    {
     "name": "stdout",
     "output_type": "stream",
     "text": [
      "Merged dictionary using update(): {'Alice': 85, 'Bob': 90, 'Charlie': 78, 'David': 88}\n",
      "Merged dictionary using ** unpacking: {'Alice': 85, 'Bob': 90, 'Charlie': 78, 'David': 88}\n"
     ]
    }
   ],
   "source": [
    "print(\"Merged dictionary using update():\", merged_dict_1)\n",
    "print(\"Merged dictionary using ** unpacking:\", merged_dict_2)"
   ]
  },
  {
   "cell_type": "markdown",
   "id": "07616f1d",
   "metadata": {},
   "source": [
    "# 82. Dictionary Key Removal: Given a dictionary of items and their quantities, write a Python program to remove a specific item from the dictionary based on user input."
   ]
  },
  {
   "cell_type": "code",
   "execution_count": 81,
   "id": "f5c2ddc7",
   "metadata": {},
   "outputs": [],
   "source": [
    "items_quantities = {\n",
    "    \"Apples\": 10,\n",
    "    \"Bananas\": 5,\n",
    "    \"Cherries\": 20,\n",
    "    \"Dates\": 15\n",
    "}"
   ]
  },
  {
   "cell_type": "code",
   "execution_count": 82,
   "id": "aa152522",
   "metadata": {},
   "outputs": [
    {
     "name": "stdout",
     "output_type": "stream",
     "text": [
      "Current items in the dictionary:\n",
      "Apples: 10\n",
      "Bananas: 5\n",
      "Cherries: 20\n",
      "Dates: 15\n"
     ]
    }
   ],
   "source": [
    "print(\"Current items in the dictionary:\")\n",
    "for item in items_quantities:\n",
    "    print(f\"{item}: {items_quantities[item]}\")"
   ]
  },
  {
   "cell_type": "code",
   "execution_count": 83,
   "id": "beb60ad2",
   "metadata": {},
   "outputs": [
    {
     "name": "stdout",
     "output_type": "stream",
     "text": [
      "Enter the item to remove: Bananas\n"
     ]
    }
   ],
   "source": [
    "item_to_remove = input(\"Enter the item to remove: \")"
   ]
  },
  {
   "cell_type": "code",
   "execution_count": 84,
   "id": "6dc743c7",
   "metadata": {},
   "outputs": [
    {
     "name": "stdout",
     "output_type": "stream",
     "text": [
      "Bananas has been removed.\n"
     ]
    }
   ],
   "source": [
    "if item_to_remove in items_quantities:\n",
    "    del items_quantities[item_to_remove]  \n",
    "    print(f\"{item_to_remove} has been removed.\")\n",
    "else:\n",
    "    print(f\"{item_to_remove} not found in the dictionary.\")"
   ]
  },
  {
   "cell_type": "code",
   "execution_count": 85,
   "id": "541f55d4",
   "metadata": {},
   "outputs": [
    {
     "name": "stdout",
     "output_type": "stream",
     "text": [
      "Updated items in the dictionary:\n",
      "Apples: 10\n",
      "Cherries: 20\n",
      "Dates: 15\n"
     ]
    }
   ],
   "source": [
    "print(\"Updated items in the dictionary:\")\n",
    "for item in items_quantities:\n",
    "    print(f\"{item}: {items_quantities[item]}\")"
   ]
  },
  {
   "cell_type": "markdown",
   "id": "5dec09bc",
   "metadata": {},
   "source": [
    "# 83. Dictionary Sorting: Given a dictionary with names as keys and corresponding ages as values, write a Python program to sort the dictionary based on age in ascending order."
   ]
  },
  {
   "cell_type": "code",
   "execution_count": 86,
   "id": "ea50164b",
   "metadata": {},
   "outputs": [],
   "source": [
    "ages = {\n",
    "    \"Alice\": 25,\n",
    "    \"Bob\": 30,\n",
    "    \"Charlie\": 20,\n",
    "    \"Diana\": 28\n",
    "}"
   ]
  },
  {
   "cell_type": "code",
   "execution_count": 87,
   "id": "5d2ac059",
   "metadata": {},
   "outputs": [],
   "source": [
    "sorted_ages = dict(sorted(ages.items(), key=lambda item: item[1]))"
   ]
  },
  {
   "cell_type": "code",
   "execution_count": 88,
   "id": "524688af",
   "metadata": {},
   "outputs": [
    {
     "name": "stdout",
     "output_type": "stream",
     "text": [
      "{'Charlie': 20, 'Alice': 25, 'Diana': 28, 'Bob': 30}\n"
     ]
    }
   ],
   "source": [
    "print(sorted_ages)"
   ]
  },
  {
   "cell_type": "markdown",
   "id": "f985c621",
   "metadata": {},
   "source": [
    "# 84. Dictionary Frequency Count: Write a Python program that takes a string as input and creates a dictionary containing each character as a key and its frequency as the value."
   ]
  },
  {
   "cell_type": "code",
   "execution_count": 90,
   "id": "82520395",
   "metadata": {},
   "outputs": [],
   "source": [
    "from collections import Counter"
   ]
  },
  {
   "cell_type": "code",
   "execution_count": 91,
   "id": "01d5ea15",
   "metadata": {},
   "outputs": [
    {
     "name": "stdout",
     "output_type": "stream",
     "text": [
      "Enter a string: Anikk\n"
     ]
    }
   ],
   "source": [
    "input_string = input(\"Enter a string: \")"
   ]
  },
  {
   "cell_type": "code",
   "execution_count": 92,
   "id": "ec06ca26",
   "metadata": {},
   "outputs": [],
   "source": [
    "frequency = Counter(input_string)"
   ]
  },
  {
   "cell_type": "code",
   "execution_count": 93,
   "id": "df8f5910",
   "metadata": {},
   "outputs": [
    {
     "name": "stdout",
     "output_type": "stream",
     "text": [
      "Counter({'k': 2, 'A': 1, 'n': 1, 'i': 1})\n"
     ]
    }
   ],
   "source": [
    "print(frequency)"
   ]
  },
  {
   "cell_type": "markdown",
   "id": "7841b975",
   "metadata": {},
   "source": [
    "# 85. Dictionary Comprehension: Given a list of integers, write a Python program to create a dictionary where the keys are the elements from the list, and the values are their squares."
   ]
  },
  {
   "cell_type": "code",
   "execution_count": 94,
   "id": "072b427b",
   "metadata": {},
   "outputs": [],
   "source": [
    "numbers = [1, 2, 3, 4, 5]\n"
   ]
  },
  {
   "cell_type": "code",
   "execution_count": 95,
   "id": "cfc7a8bf",
   "metadata": {},
   "outputs": [],
   "source": [
    "squared_dict = {}"
   ]
  },
  {
   "cell_type": "code",
   "execution_count": 96,
   "id": "a2896182",
   "metadata": {},
   "outputs": [],
   "source": [
    "for num in numbers:\n",
    "    squared_dict[num] = num ** 2\n"
   ]
  },
  {
   "cell_type": "code",
   "execution_count": 97,
   "id": "869a472f",
   "metadata": {},
   "outputs": [
    {
     "name": "stdout",
     "output_type": "stream",
     "text": [
      "{1: 1, 2: 4, 3: 9, 4: 16, 5: 25}\n"
     ]
    }
   ],
   "source": [
    "print(squared_dict)"
   ]
  },
  {
   "cell_type": "markdown",
   "id": "07b4d230",
   "metadata": {},
   "source": [
    "# 86. Dictionary Key Check: Write a Python program that takes a key as input and checks if it exists in a given dictionary. Print “Key Found” if the key is present and “Key Not Found” otherwise."
   ]
  },
  {
   "cell_type": "code",
   "execution_count": 98,
   "id": "38972e9d",
   "metadata": {},
   "outputs": [],
   "source": [
    "my_dict = {\n",
    "    'name': 'Alice',\n",
    "    'age': 30,\n",
    "    'city': 'Dhaka'\n",
    "}"
   ]
  },
  {
   "cell_type": "code",
   "execution_count": 99,
   "id": "222da174",
   "metadata": {},
   "outputs": [
    {
     "name": "stdout",
     "output_type": "stream",
     "text": [
      "Enter the key you want to check: name\n"
     ]
    }
   ],
   "source": [
    "key_to_check = input(\"Enter the key you want to check: \")\n"
   ]
  },
  {
   "cell_type": "code",
   "execution_count": 100,
   "id": "04ece44c",
   "metadata": {},
   "outputs": [
    {
     "name": "stdout",
     "output_type": "stream",
     "text": [
      "Key Found\n"
     ]
    }
   ],
   "source": [
    "if key_to_check in my_dict:\n",
    "    print(\"Key Found\")\n",
    "else:\n",
    "    print(\"Key Not Found\")"
   ]
  },
  {
   "cell_type": "markdown",
   "id": "20f489a5",
   "metadata": {},
   "source": [
    "# Nested Dictionary Problems:"
   ]
  },
  {
   "cell_type": "markdown",
   "id": "69adecd1",
   "metadata": {},
   "source": [
    "# 87. Access Nested Dictionary: Given a nested dictionary containing student details, write a Python program to access and print specific information such as a student’s name, age, and address."
   ]
  },
  {
   "cell_type": "code",
   "execution_count": 1,
   "id": "51c7f837",
   "metadata": {},
   "outputs": [],
   "source": [
    "students = {\n",
    "    \"student1\": {\n",
    "        \"name\": \"Anik\",\n",
    "        \"age\": 25,\n",
    "        \"address\": \"Basundhara R\\A, Dhaka\"\n",
    "    },\n",
    "    \"student2\": {\n",
    "        \"name\": \"Sourav\",\n",
    "        \"age\": 25,\n",
    "        \"address\": \"Mirpur-14,Dhaka\"\n",
    "    }\n",
    "}\n"
   ]
  },
  {
   "cell_type": "code",
   "execution_count": 2,
   "id": "78471dd5",
   "metadata": {},
   "outputs": [
    {
     "name": "stdout",
     "output_type": "stream",
     "text": [
      "Name: Anik\n",
      "Age: 25\n",
      "Address: Basundhara R\\A, Dhaka\n"
     ]
    }
   ],
   "source": [
    "student_id = \"student1\"\n",
    "student1 = students[student_id]\n",
    "print(f\"Name: {student1['name']}\")\n",
    "print(f\"Age: {student1['age']}\")\n",
    "print(f\"Address: {student1['address']}\")"
   ]
  },
  {
   "cell_type": "code",
   "execution_count": 3,
   "id": "99852ed4",
   "metadata": {},
   "outputs": [
    {
     "name": "stdout",
     "output_type": "stream",
     "text": [
      "Name: Sourav\n",
      "Age: 25\n",
      "Address: Mirpur-14,Dhaka\n"
     ]
    }
   ],
   "source": [
    "student_id = \"student2\"\n",
    "student2 = students[student_id]\n",
    "print(f\"Name: {student2['name']}\")\n",
    "print(f\"Age: {student2['age']}\")\n",
    "print(f\"Address: {student2['address']}\")"
   ]
  },
  {
   "cell_type": "markdown",
   "id": "a51da0f0",
   "metadata": {},
   "source": [
    "# 88. Nested Dictionary Length: Write a Python program to calculate and print the total number of key-value pairs in a nested dictionary."
   ]
  },
  {
   "cell_type": "code",
   "execution_count": 4,
   "id": "90f631af",
   "metadata": {},
   "outputs": [],
   "source": [
    "students = {\n",
    "    \"student1\": {\n",
    "        \"name\": \"Anik\",\n",
    "        \"age\": 25,\n",
    "        \"address\": \"Basundhara R\\A, Dhaka\"\n",
    "    },\n",
    "    \"student2\": {\n",
    "        \"name\": \"Sourav\",\n",
    "        \"age\": 25,\n",
    "        \"address\": \"Mirpur-14,Dhaka\"\n",
    "    }\n",
    "}\n"
   ]
  },
  {
   "cell_type": "code",
   "execution_count": 5,
   "id": "151642c5",
   "metadata": {},
   "outputs": [],
   "source": [
    "total_pairs = 0"
   ]
  },
  {
   "cell_type": "code",
   "execution_count": 6,
   "id": "763296db",
   "metadata": {},
   "outputs": [],
   "source": [
    "for student_id, details in students.items():\n",
    "    total_pairs += len(details) "
   ]
  },
  {
   "cell_type": "code",
   "execution_count": 7,
   "id": "2f55461a",
   "metadata": {},
   "outputs": [
    {
     "name": "stdout",
     "output_type": "stream",
     "text": [
      "Total number of key-value pairs in the nested dictionary: 8\n"
     ]
    }
   ],
   "source": [
    "total_pairs += len(students)\n",
    "print(f\"Total number of key-value pairs in the nested dictionary: {total_pairs}\")"
   ]
  },
  {
   "cell_type": "markdown",
   "id": "70fd8a3e",
   "metadata": {},
   "source": [
    "# 89. Nested Dictionary Update: Given a nested dictionary of employee details, write a Python program to update an employee’s salary based on their employee ID."
   ]
  },
  {
   "cell_type": "code",
   "execution_count": 8,
   "id": "63b4c9d5",
   "metadata": {},
   "outputs": [],
   "source": [
    "employees = {\n",
    "    \"emp001\": {\n",
    "        \"name\": \"Anik Majumdar\",\n",
    "        \"age\": 25,\n",
    "        \"salary\": 50000\n",
    "    },\n",
    "    \"emp002\": {\n",
    "        \"name\": \"Sayed Noman\",\n",
    "        \"age\": 24,\n",
    "        \"salary\": 45000\n",
    "    }\n",
    "}"
   ]
  },
  {
   "cell_type": "code",
   "execution_count": 9,
   "id": "e1bb677f",
   "metadata": {},
   "outputs": [],
   "source": [
    "employee_id = \"emp001\"\n",
    "new_salary = 60000"
   ]
  },
  {
   "cell_type": "code",
   "execution_count": 10,
   "id": "7b4c4ae6",
   "metadata": {},
   "outputs": [
    {
     "name": "stdout",
     "output_type": "stream",
     "text": [
      "Updated salary for Anik Majumdar: 60000\n"
     ]
    }
   ],
   "source": [
    "if employee_id in employees:\n",
    "    employees[employee_id]['salary'] = new_salary\n",
    "    print(f\"Updated salary for {employees[employee_id]['name']}: {new_salary}\")\n",
    "else:\n",
    "    print(\"Employee ID not found.\")"
   ]
  },
  {
   "cell_type": "code",
   "execution_count": 11,
   "id": "72a9febf",
   "metadata": {},
   "outputs": [
    {
     "name": "stdout",
     "output_type": "stream",
     "text": [
      "{'emp001': {'name': 'Anik Majumdar', 'age': 25, 'salary': 60000}, 'emp002': {'name': 'Sayed Noman', 'age': 24, 'salary': 45000}}\n"
     ]
    }
   ],
   "source": [
    "print(employees)"
   ]
  },
  {
   "cell_type": "markdown",
   "id": "a4d70083",
   "metadata": {},
   "source": [
    "# 90. Nested Dictionary Sorting: Given a nested dictionary containing product details (product name, price, and quantity), write a Python program to sort the products based on their prices in ascending order."
   ]
  },
  {
   "cell_type": "code",
   "execution_count": 12,
   "id": "d7feea92",
   "metadata": {},
   "outputs": [],
   "source": [
    "products = {\n",
    "    \"product1\": {\n",
    "        \"name\": \"Laptop\",\n",
    "        \"price\": 800,\n",
    "        \"quantity\": 10\n",
    "    },\n",
    "    \"product2\": {\n",
    "        \"name\": \"Smartphone\",\n",
    "        \"price\": 600,\n",
    "        \"quantity\": 15\n",
    "    },\n",
    "    \"product3\": {\n",
    "        \"name\": \"Tablet\",\n",
    "        \"price\": 300,\n",
    "        \"quantity\": 20\n",
    "    }\n",
    "}"
   ]
  },
  {
   "cell_type": "code",
   "execution_count": 13,
   "id": "26217c53",
   "metadata": {},
   "outputs": [],
   "source": [
    "sorted_products = sorted(products.items(), key=lambda item: item[1]['price'])\n"
   ]
  },
  {
   "cell_type": "code",
   "execution_count": 14,
   "id": "83f1123b",
   "metadata": {},
   "outputs": [
    {
     "name": "stdout",
     "output_type": "stream",
     "text": [
      "Products sorted by price (ascending):\n",
      "ID: product3, Name: Tablet, Price: 300, Quantity: 20\n",
      "ID: product2, Name: Smartphone, Price: 600, Quantity: 15\n",
      "ID: product1, Name: Laptop, Price: 800, Quantity: 10\n"
     ]
    }
   ],
   "source": [
    "print(\"Products sorted by price (ascending):\")\n",
    "for product_id, details in sorted_products:\n",
    "    print(f\"ID: {product_id}, Name: {details['name']}, Price: {details['price']}, Quantity: {details['quantity']}\")"
   ]
  },
  {
   "cell_type": "markdown",
   "id": "0a75858d",
   "metadata": {},
   "source": [
    "# 91. Nested Dictionary Key Search: Write a Python program that takes a key as input and searches for it in a nested dictionary. If found, print the corresponding value, otherwise, print “Key Not Found.”"
   ]
  },
  {
   "cell_type": "code",
   "execution_count": 16,
   "id": "1dd512c9",
   "metadata": {},
   "outputs": [],
   "source": [
    "data = {\n",
    "    \"student1\": {\n",
    "        \"name\": \"Anik\",\n",
    "        \"age\": 25,\n",
    "        \"address\": \"Basundhara R\\A, Dhaka\"\n",
    "    },\n",
    "    \"student2\": {\n",
    "        \"name\": \"Sayed Noman\",\n",
    "        \"age\": 25,\n",
    "        \"address\": \"Uttara, Sector-06, Dhaka\"\n",
    "    }\n",
    "}"
   ]
  },
  {
   "cell_type": "code",
   "execution_count": 17,
   "id": "ae0484f1",
   "metadata": {},
   "outputs": [
    {
     "name": "stdout",
     "output_type": "stream",
     "text": [
      "Enter the key to search for: name\n"
     ]
    }
   ],
   "source": [
    "key_to_search = input(\"Enter the key to search for: \")"
   ]
  },
  {
   "cell_type": "code",
   "execution_count": 18,
   "id": "39bb6b9b",
   "metadata": {},
   "outputs": [],
   "source": [
    "key_found = False"
   ]
  },
  {
   "cell_type": "code",
   "execution_count": 19,
   "id": "4e3a0fbc",
   "metadata": {},
   "outputs": [
    {
     "name": "stdout",
     "output_type": "stream",
     "text": [
      "Anik\n"
     ]
    }
   ],
   "source": [
    "for outer_key, inner_dict in data.items():\n",
    "    if key_to_search in inner_dict:\n",
    "        print(inner_dict[key_to_search])\n",
    "        key_found = True\n",
    "        break\n",
    "\n",
    "if not key_found:\n",
    "    print(\"Key Not Found.\")"
   ]
  },
  {
   "cell_type": "markdown",
   "id": "66832c79",
   "metadata": {},
   "source": [
    "# Break & Continue: "
   ]
  },
  {
   "cell_type": "markdown",
   "id": "4a4da743",
   "metadata": {},
   "source": [
    "# 92. Prime Number Checker: Write a Python program that takes a number as input and determines if it is a prime number or not. Use a `for` loop to check for factors. If a factor is found, `break` out of the loop."
   ]
  },
  {
   "cell_type": "code",
   "execution_count": 20,
   "id": "73efa085",
   "metadata": {},
   "outputs": [
    {
     "name": "stdout",
     "output_type": "stream",
     "text": [
      "Enter a number: 5\n"
     ]
    }
   ],
   "source": [
    "number = int(input(\"Enter a number: \"))\n",
    "is_prime = True"
   ]
  },
  {
   "cell_type": "code",
   "execution_count": 21,
   "id": "2488339f",
   "metadata": {},
   "outputs": [],
   "source": [
    "if number <= 1:\n",
    "    is_prime = False  \n",
    "else:\n",
    "    for i in range(2, int(number**0.5) + 1):\n",
    "        if number % i == 0:\n",
    "            is_prime = False  \n",
    "            break"
   ]
  },
  {
   "cell_type": "code",
   "execution_count": 22,
   "id": "64fa7bc8",
   "metadata": {},
   "outputs": [
    {
     "name": "stdout",
     "output_type": "stream",
     "text": [
      "5 is a prime number.\n"
     ]
    }
   ],
   "source": [
    "if is_prime:\n",
    "    print(f\"{number} is a prime number.\")\n",
    "else:\n",
    "    print(f\"{number} is not a prime number.\")"
   ]
  },
  {
   "cell_type": "markdown",
   "id": "d987b14b",
   "metadata": {},
   "source": [
    "# 93. Even Number Printer: Write a Python program to print all even numbers from 1 to 20. Use a `for` loop and `continue` to skip odd numbers."
   ]
  },
  {
   "cell_type": "code",
   "execution_count": 23,
   "id": "758cff32",
   "metadata": {},
   "outputs": [
    {
     "name": "stdout",
     "output_type": "stream",
     "text": [
      "2\n",
      "4\n",
      "6\n",
      "8\n",
      "10\n",
      "12\n",
      "14\n",
      "16\n",
      "18\n",
      "20\n"
     ]
    }
   ],
   "source": [
    "for number in range(1, 21):\n",
    "    if number % 2 != 0:\n",
    "        continue  \n",
    "    print(number)"
   ]
  },
  {
   "cell_type": "markdown",
   "id": "dc6cb90c",
   "metadata": {},
   "source": [
    "# 94. Password Validator: Write a Python program that takes a password as input and checks if it meets the following criteria: at least 8 characters long, contains both uppercase and lowercase letters, and has at least one digit. If the password is valid, print “Password accepted.” If not, use `continue` to prompt the user to enter a valid password."
   ]
  },
  {
   "cell_type": "code",
   "execution_count": 42,
   "id": "f3762f91",
   "metadata": {},
   "outputs": [
    {
     "name": "stdout",
     "output_type": "stream",
     "text": [
      "Enter a password: Anik12*/\n",
      "Password accepted.\n"
     ]
    }
   ],
   "source": [
    "while True:\n",
    "    password = input(\"Enter a password: \")\n",
    "    \n",
    "    if (len(password) < 8 or \n",
    "        not any(c.islower() for c in password) or \n",
    "        not any(c.isupper() for c in password) or \n",
    "        not any(c.isdigit() for c in password)):\n",
    "        \n",
    "        print(\"Password does not meet the criteria. Please try again.\")\n",
    "        continue  \n",
    "\n",
    "    print(\"Password accepted.\")\n",
    "    break  \n"
   ]
  },
  {
   "cell_type": "markdown",
   "id": "35d52870",
   "metadata": {},
   "source": [
    "# 95. Divisible by 3 or 5: Write a Python program to print all numbers from 1 to 50 that are divisible by either 3 or 5. Use a `for` loop and `continue` to skip numbers that are not divisible by either 3 or 5."
   ]
  },
  {
   "cell_type": "code",
   "execution_count": 43,
   "id": "a663f978",
   "metadata": {},
   "outputs": [
    {
     "name": "stdout",
     "output_type": "stream",
     "text": [
      "3\n",
      "5\n",
      "6\n",
      "9\n",
      "10\n",
      "12\n",
      "15\n",
      "18\n",
      "20\n",
      "21\n",
      "24\n",
      "25\n",
      "27\n",
      "30\n",
      "33\n",
      "35\n",
      "36\n",
      "39\n",
      "40\n",
      "42\n",
      "45\n",
      "48\n",
      "50\n"
     ]
    }
   ],
   "source": [
    "for number in range(1, 51):\n",
    "    if number % 3 != 0 and number % 5 != 0:\n",
    "        continue  \n",
    "    print(number)"
   ]
  },
  {
   "cell_type": "markdown",
   "id": "2aeabfb0",
   "metadata": {},
   "source": [
    "# 96. Positive Number Sum: Write a Python program that takes positive numbers as input until a negative number is entered. Then, calculate and print the sum of all positive numbers entered. Use a `while` loop and `break` to exit the loop when a negative number is encountered."
   ]
  },
  {
   "cell_type": "code",
   "execution_count": 44,
   "id": "b5260095",
   "metadata": {},
   "outputs": [],
   "source": [
    "total_sum = 0"
   ]
  },
  {
   "cell_type": "code",
   "execution_count": 45,
   "id": "d2712642",
   "metadata": {},
   "outputs": [
    {
     "name": "stdout",
     "output_type": "stream",
     "text": [
      "Enter a positive number (or a negative number to stop): 5\n",
      "Enter a positive number (or a negative number to stop): 6\n",
      "Enter a positive number (or a negative number to stop): 8\n",
      "Enter a positive number (or a negative number to stop): 9\n",
      "Enter a positive number (or a negative number to stop): 7\n",
      "Enter a positive number (or a negative number to stop): -9\n"
     ]
    }
   ],
   "source": [
    "while True:\n",
    "    number = float(input(\"Enter a positive number (or a negative number to stop): \"))    \n",
    "    if number < 0:\n",
    "        break\n",
    "    total_sum += number "
   ]
  },
  {
   "cell_type": "code",
   "execution_count": 46,
   "id": "b7a23751",
   "metadata": {},
   "outputs": [
    {
     "name": "stdout",
     "output_type": "stream",
     "text": [
      "The sum of all positive numbers entered is: 35.0\n"
     ]
    }
   ],
   "source": [
    "print(f\"The sum of all positive numbers entered is: {total_sum}\")\n"
   ]
  },
  {
   "cell_type": "markdown",
   "id": "7534bb9e",
   "metadata": {},
   "source": [
    "# 97. Word Palindrome Checker: Write a Python program that takes a word as input and checks if it is a palindrome (reads the same forwards and backward). Use `continue` to skip checking the word if its length is less than 3 characters."
   ]
  },
  {
   "cell_type": "code",
   "execution_count": 50,
   "id": "af784065",
   "metadata": {},
   "outputs": [
    {
     "name": "stdout",
     "output_type": "stream",
     "text": [
      "Enter a word (or type 'exit' to quit): Anik\n",
      "Anik is not a palindrome.\n",
      "Enter a word (or type 'exit' to quit): exit\n"
     ]
    }
   ],
   "source": [
    "while True:\n",
    "    word = input(\"Enter a word (or type 'exit' to quit): \")\n",
    "    \n",
    "    if word.lower() == 'exit':\n",
    "        break\n",
    "    if len(word) < 3:\n",
    "        print(\"Word is too short to check for palindrome.\")\n",
    "        continue  \n",
    "    if word == word[::-1]:\n",
    "        print(f\"{word} is a palindrome.\")\n",
    "    else:\n",
    "        print(f\"{word} is not a palindrome.\")\n"
   ]
  },
  {
   "cell_type": "markdown",
   "id": "99ae4550",
   "metadata": {},
   "source": [
    "# 98. Odd Number Finder: Write a Python program to find the first odd number from a list of integers. Use a `for` loop and `break` to stop the loop when the first odd number is found."
   ]
  },
  {
   "cell_type": "code",
   "execution_count": 51,
   "id": "12b2a2e0",
   "metadata": {},
   "outputs": [],
   "source": [
    "numbers = [2, 4, 6, 8, 10, 3, 12, 14]"
   ]
  },
  {
   "cell_type": "code",
   "execution_count": 52,
   "id": "78f71406",
   "metadata": {},
   "outputs": [
    {
     "name": "stdout",
     "output_type": "stream",
     "text": [
      "The first odd number is: 3\n"
     ]
    }
   ],
   "source": [
    "for number in numbers:\n",
    "    if number % 2 != 0:  \n",
    "        print(f\"The first odd number is: {number}\")\n",
    "        break"
   ]
  },
  {
   "cell_type": "markdown",
   "id": "8dbf95c7",
   "metadata": {},
   "source": [
    "# 99. Number Guessing Game: Write a Python program that generates a random number between 1 and 100 and lets the user guess the number. Use a `while` loop, `break` when the correct number is guessed, and `continue` to keep prompting the user until they guess correctly."
   ]
  },
  {
   "cell_type": "code",
   "execution_count": 53,
   "id": "3f7a0252",
   "metadata": {},
   "outputs": [],
   "source": [
    "import random\n",
    "random_number = random.randint(1, 100)"
   ]
  },
  {
   "cell_type": "code",
   "execution_count": 54,
   "id": "2e11c352",
   "metadata": {},
   "outputs": [
    {
     "name": "stdout",
     "output_type": "stream",
     "text": [
      "Guess the number (between 1 and 100): 20\n",
      "Too high! Try again.\n",
      "Guess the number (between 1 and 100): 15\n",
      "Too low! Try again.\n",
      "Guess the number (between 1 and 100): 2\n",
      "Too low! Try again.\n",
      "Guess the number (between 1 and 100): 3\n",
      "Too low! Try again.\n",
      "Guess the number (between 1 and 100): 4\n",
      "Too low! Try again.\n",
      "Guess the number (between 1 and 100): 5\n",
      "Too low! Try again.\n",
      "Guess the number (between 1 and 100): 6\n",
      "Too low! Try again.\n",
      "Guess the number (between 1 and 100): 7\n",
      "Too low! Try again.\n",
      "Guess the number (between 1 and 100): 8\n",
      "Too low! Try again.\n",
      "Guess the number (between 1 and 100): 9\n",
      "Too low! Try again.\n",
      "Guess the number (between 1 and 100): 10\n",
      "Too low! Try again.\n",
      "Guess the number (between 1 and 100): 11\n",
      "Too low! Try again.\n",
      "Guess the number (between 1 and 100): 12\n",
      "Too low! Try again.\n",
      "Guess the number (between 1 and 100): 13\n",
      "Too low! Try again.\n",
      "Guess the number (between 1 and 100): 14\n",
      "Too low! Try again.\n",
      "Guess the number (between 1 and 100): 15\n",
      "Too low! Try again.\n",
      "Guess the number (between 1 and 100): 16\n",
      "Too low! Try again.\n",
      "Guess the number (between 1 and 100): 17\n",
      "Too low! Try again.\n",
      "Guess the number (between 1 and 100): 40\n",
      "Too high! Try again.\n",
      "Guess the number (between 1 and 100): 18\n",
      "Too low! Try again.\n",
      "Guess the number (between 1 and 100): 19\n",
      "Congratulations! You guessed the correct number: 19\n"
     ]
    }
   ],
   "source": [
    "while True:\n",
    "    guess = int(input(\"Guess the number (between 1 and 100): \"))\n",
    "    if guess == random_number:\n",
    "        print(f\"Congratulations! You guessed the correct number: {random_number}\")\n",
    "        break  \n",
    "    elif guess < random_number:\n",
    "        print(\"Too low! Try again.\")\n",
    "    else:\n",
    "        print(\"Too high! Try again.\")\n",
    "    continue"
   ]
  },
  {
   "cell_type": "markdown",
   "id": "c0e1125e",
   "metadata": {},
   "source": [
    "# 100. Vowel Counter: Write a Python program that takes a string as input and counts the number of vowels (a, e, i, o, u) in it. Use a `for` loop and `continue` to skip counting non-vowel characters."
   ]
  },
  {
   "cell_type": "code",
   "execution_count": 55,
   "id": "94ce4df7",
   "metadata": {},
   "outputs": [
    {
     "name": "stdout",
     "output_type": "stream",
     "text": [
      "Enter a string: anik\n"
     ]
    }
   ],
   "source": [
    "input_string = input(\"Enter a string: \")"
   ]
  },
  {
   "cell_type": "code",
   "execution_count": 56,
   "id": "69b5dc0a",
   "metadata": {},
   "outputs": [],
   "source": [
    "vowel_count = 0\n",
    "vowels = \"aeiouAEIOU\""
   ]
  },
  {
   "cell_type": "code",
   "execution_count": 57,
   "id": "08fb3aec",
   "metadata": {},
   "outputs": [],
   "source": [
    "for char in input_string:\n",
    "    if char not in vowels:\n",
    "        continue\n",
    "    vowel_count += 1"
   ]
  },
  {
   "cell_type": "code",
   "execution_count": 58,
   "id": "85e5dd06",
   "metadata": {},
   "outputs": [
    {
     "name": "stdout",
     "output_type": "stream",
     "text": [
      "The number of vowels in the string is: 2\n"
     ]
    }
   ],
   "source": [
    "print(f\"The number of vowels in the string is: {vowel_count}\")"
   ]
  },
  {
   "cell_type": "markdown",
   "id": "fe67d6b5",
   "metadata": {},
   "source": [
    "# 101. Unique Characters: Write a Python program that takes a string as input and checks if it contains all unique characters (no character repeats). Use a `for` loop and `break` when a character repeats."
   ]
  },
  {
   "cell_type": "code",
   "execution_count": 59,
   "id": "88d2b9ee",
   "metadata": {},
   "outputs": [
    {
     "name": "stdout",
     "output_type": "stream",
     "text": [
      "Enter a string: Anik\n"
     ]
    }
   ],
   "source": [
    "input_string = input(\"Enter a string: \")\n",
    "seen_characters = set()"
   ]
  },
  {
   "cell_type": "code",
   "execution_count": 60,
   "id": "9f8eb2ef",
   "metadata": {},
   "outputs": [
    {
     "name": "stdout",
     "output_type": "stream",
     "text": [
      "The string contains all unique characters.\n"
     ]
    }
   ],
   "source": [
    "for char in input_string:\n",
    "    if char in seen_characters:\n",
    "        print(\"The string does not contain all unique characters.\")\n",
    "        break\n",
    "    seen_characters.add(char)\n",
    "else:\n",
    "    print(\"The string contains all unique characters.\")"
   ]
  },
  {
   "cell_type": "markdown",
   "id": "2eb91f47",
   "metadata": {},
   "source": [
    "# Functions Problems:"
   ]
  },
  {
   "cell_type": "markdown",
   "id": "c6d64c7a",
   "metadata": {},
   "source": [
    "# 102. Factorial Calculator: Write a Python function called `factorial` that takes an integer as input and returns its factorial. Test the function with different values."
   ]
  },
  {
   "cell_type": "code",
   "execution_count": 64,
   "id": "bf3f2b79",
   "metadata": {},
   "outputs": [],
   "source": [
    "def factorial(n):\n",
    "    if n == 0 or n == 1:\n",
    "        return 1\n",
    "    result = 1\n",
    "    for i in range(2, n + 1):\n",
    "        result *= i\n",
    "    \n",
    "    return result"
   ]
  },
  {
   "cell_type": "code",
   "execution_count": 65,
   "id": "f8d9de72",
   "metadata": {},
   "outputs": [
    {
     "name": "stdout",
     "output_type": "stream",
     "text": [
      "Enter n:5\n"
     ]
    }
   ],
   "source": [
    "fac=int(input(\"Enter n:\"))"
   ]
  },
  {
   "cell_type": "code",
   "execution_count": 66,
   "id": "731c399f",
   "metadata": {},
   "outputs": [
    {
     "name": "stdout",
     "output_type": "stream",
     "text": [
      "Factorial of 5 is: 120\n"
     ]
    }
   ],
   "source": [
    "print(f\"Factorial of 5 is: {factorial(fac)}\")"
   ]
  },
  {
   "cell_type": "markdown",
   "id": "0712ca87",
   "metadata": {},
   "source": [
    "# 103. Palindrome Checker: Write a Python function called `is_palindrome` that takes a string as input and returns `True` if it is a palindrome and `False` otherwise. Test the function with different words."
   ]
  },
  {
   "cell_type": "code",
   "execution_count": 67,
   "id": "eefc0c88",
   "metadata": {},
   "outputs": [],
   "source": [
    "def is_palindrome(word):\n",
    "    return word == word[::-1]"
   ]
  },
  {
   "cell_type": "code",
   "execution_count": 80,
   "id": "88be91c4",
   "metadata": {},
   "outputs": [
    {
     "name": "stdout",
     "output_type": "stream",
     "text": [
      "Enter string: Nonon\n"
     ]
    }
   ],
   "source": [
    "n=input(\"Enter string: \")"
   ]
  },
  {
   "cell_type": "code",
   "execution_count": 82,
   "id": "f7a48eae",
   "metadata": {},
   "outputs": [],
   "source": [
    "n1=n.lower()"
   ]
  },
  {
   "cell_type": "code",
   "execution_count": 84,
   "id": "9eaa53ed",
   "metadata": {},
   "outputs": [
    {
     "name": "stdout",
     "output_type": "stream",
     "text": [
      "True\n"
     ]
    }
   ],
   "source": [
    "print(is_palindrome(n1))"
   ]
  },
  {
   "cell_type": "markdown",
   "id": "b39fd5b2",
   "metadata": {},
   "source": [
    "# 104. Even or Odd Checker: Write a Python function called `even_or_odd` that takes an integer as input and returns “Even” if the number is even and “Odd” if the number is odd. Test the function with different numbers."
   ]
  },
  {
   "cell_type": "code",
   "execution_count": 85,
   "id": "984e6c35",
   "metadata": {},
   "outputs": [],
   "source": [
    "def even_or_odd(number):\n",
    "    if number % 2 == 0:\n",
    "        return \"Even\"\n",
    "    else:\n",
    "        return \"Odd\""
   ]
  },
  {
   "cell_type": "code",
   "execution_count": 86,
   "id": "178c76d5",
   "metadata": {},
   "outputs": [
    {
     "name": "stdout",
     "output_type": "stream",
     "text": [
      "Enter number: 20\n"
     ]
    }
   ],
   "source": [
    "num=int(input(\"Enter number: \"))"
   ]
  },
  {
   "cell_type": "code",
   "execution_count": 87,
   "id": "f7b1fd05",
   "metadata": {},
   "outputs": [
    {
     "name": "stdout",
     "output_type": "stream",
     "text": [
      "Even\n"
     ]
    }
   ],
   "source": [
    "print(even_or_odd(num)) "
   ]
  },
  {
   "cell_type": "markdown",
   "id": "365de61b",
   "metadata": {},
   "source": [
    "# 105. List Sum Calculator: Write a Python function called `list_sum` that takes a list of integers as input and returns the sum of all elements in the list. Test the function with different lists."
   ]
  },
  {
   "cell_type": "code",
   "execution_count": 88,
   "id": "3840ec27",
   "metadata": {},
   "outputs": [],
   "source": [
    "def list_sum(numbers):\n",
    "    return sum(numbers)"
   ]
  },
  {
   "cell_type": "code",
   "execution_count": 89,
   "id": "ffe05a91",
   "metadata": {},
   "outputs": [
    {
     "name": "stdout",
     "output_type": "stream",
     "text": [
      "15\n"
     ]
    }
   ],
   "source": [
    "print(list_sum([1, 2, 3, 4, 5]))   "
   ]
  },
  {
   "cell_type": "markdown",
   "id": "7d836995",
   "metadata": {},
   "source": [
    "# 106. Greatest Common Divisor (GCD) Calculator: Write a Python function called `gcd` that takes two integers as input and returns their greatest common divisor. Test the function with different pairs of numbers."
   ]
  },
  {
   "cell_type": "code",
   "execution_count": 90,
   "id": "1bd196ac",
   "metadata": {},
   "outputs": [],
   "source": [
    "def gcd(a, b):\n",
    "    while b != 0:\n",
    "        a, b = b, a % b\n",
    "    return a"
   ]
  },
  {
   "cell_type": "code",
   "execution_count": 91,
   "id": "aae424e3",
   "metadata": {},
   "outputs": [
    {
     "name": "stdout",
     "output_type": "stream",
     "text": [
      "Enter n1: 14\n",
      "Enter n2: 26\n"
     ]
    }
   ],
   "source": [
    "n1=int(input(\"Enter n1: \"))\n",
    "n2=int(input(\"Enter n2: \"))"
   ]
  },
  {
   "cell_type": "code",
   "execution_count": 92,
   "id": "13ce3409",
   "metadata": {},
   "outputs": [
    {
     "name": "stdout",
     "output_type": "stream",
     "text": [
      "2\n"
     ]
    }
   ],
   "source": [
    "print(gcd(n1, n2)) "
   ]
  },
  {
   "cell_type": "markdown",
   "id": "c4f7f969",
   "metadata": {},
   "source": [
    "# 107. Leap Year Checker: Write a Python function called `is_leap_year` that takes a year as input and returns `True` if it is a leap year and `False` otherwise. Test the function with different years."
   ]
  },
  {
   "cell_type": "code",
   "execution_count": 93,
   "id": "3202eb0c",
   "metadata": {},
   "outputs": [],
   "source": [
    "def is_leap_year(year):\n",
    "    if (year % 4 == 0 and year % 100 != 0) or (year % 400 == 0):\n",
    "        return True\n",
    "    else:\n",
    "        return False"
   ]
  },
  {
   "cell_type": "code",
   "execution_count": 94,
   "id": "91574c52",
   "metadata": {},
   "outputs": [
    {
     "name": "stdout",
     "output_type": "stream",
     "text": [
      "Enter year: 2012\n"
     ]
    }
   ],
   "source": [
    "yr=int(input(\"Enter year: \"))"
   ]
  },
  {
   "cell_type": "code",
   "execution_count": 95,
   "id": "60b53431",
   "metadata": {},
   "outputs": [
    {
     "name": "stdout",
     "output_type": "stream",
     "text": [
      "True\n"
     ]
    }
   ],
   "source": [
    "print(is_leap_year(yr))"
   ]
  },
  {
   "cell_type": "markdown",
   "id": "29149186",
   "metadata": {},
   "source": [
    "# Nested Functions Problems:"
   ]
  },
  {
   "cell_type": "markdown",
   "id": "67205cdb",
   "metadata": {},
   "source": [
    "# 108. Math Operations: Write a Python function called `math_operations` that takes three numbers and a string representing an operation (‘add’, ‘subtract’, ‘multiply’, or ‘divide’). The function should return the result of the specified operation on the three numbers. Implement the math operations as nested functions."
   ]
  },
  {
   "cell_type": "code",
   "execution_count": 109,
   "id": "12fdedc3",
   "metadata": {},
   "outputs": [
    {
     "name": "stdout",
     "output_type": "stream",
     "text": [
      "Enter n1: 2\n",
      "Enter n2: 3\n",
      "Enter n3: 5\n",
      "Add:  10\n",
      "Subtract:  -6\n",
      "Multiply:  30\n",
      "Divide:  0.13333333333333333\n",
      "Modulus:  Error: Invalid operation.\n"
     ]
    }
   ],
   "source": [
    "def math_operations(num1, num2, num3, operation):\n",
    "    def add(a, b, c):\n",
    "        return a + b + c\n",
    "\n",
    "    def subtract(a, b, c):\n",
    "        return a - b - c\n",
    "\n",
    "    def multiply(a, b, c):\n",
    "        return a * b * c\n",
    "\n",
    "    def divide(a, b, c):\n",
    "        if b == 0 or c == 0:\n",
    "            return \"Error: Division by zero is not allowed.\"\n",
    "        return a / b / c\n",
    "\n",
    "    if operation == 'add':\n",
    "        return add(num1, num2, num3)\n",
    "    elif operation == 'subtract':\n",
    "        return subtract(num1, num2, num3)\n",
    "    elif operation == 'multiply':\n",
    "        return multiply(num1, num2, num3)\n",
    "    elif operation == 'divide':\n",
    "        return divide(num1, num2, num3)\n",
    "    else:\n",
    "        return \"Error: Invalid operation.\"\n",
    "    \n",
    "n1=int(input(\"Enter n1: \"))\n",
    "n2=int(input(\"Enter n2: \"))\n",
    "n3=int(input(\"Enter n3: \"))\n",
    "\n",
    "print(\"Add: \",math_operations(n1, n2, n3, 'add'))       \n",
    "print(\"Subtract: \",math_operations(n1, n2, n3, 'subtract'))  \n",
    "print(\"Multiply: \",math_operations(n1, n2, n3, 'multiply'))\n",
    "print(\"Divide: \",math_operations(n1, n2, n3, 'divide'))       \n",
    "print(\"Modulus: \",math_operations(n1, n2, n3, 'modulus'))    "
   ]
  },
  {
   "cell_type": "markdown",
   "id": "28dde04e",
   "metadata": {},
   "source": [
    "# 109. Greeting Generator: Write a Python function called `greeting_generator` that takes a name as input and returns a greeting message using nested functions. The greeting message should be customizable (e.g., “Hello, {name}! How are you today?”)."
   ]
  },
  {
   "cell_type": "code",
   "execution_count": 110,
   "id": "b36de0d8",
   "metadata": {},
   "outputs": [],
   "source": [
    "def greeting_generator(name):\n",
    "    def create_greeting():\n",
    "        return f\"Hello, {name}! How are you today?\"\n",
    "    return create_greeting()"
   ]
  },
  {
   "cell_type": "code",
   "execution_count": 111,
   "id": "a00e3df5",
   "metadata": {},
   "outputs": [
    {
     "name": "stdout",
     "output_type": "stream",
     "text": [
      "Enter name: Anik\n"
     ]
    }
   ],
   "source": [
    "n=input(\"Enter name: \")"
   ]
  },
  {
   "cell_type": "code",
   "execution_count": 112,
   "id": "26d32dcf",
   "metadata": {},
   "outputs": [
    {
     "name": "stdout",
     "output_type": "stream",
     "text": [
      "Hello, Anik! How are you today?\n"
     ]
    }
   ],
   "source": [
    "print(greeting_generator(n)) "
   ]
  },
  {
   "cell_type": "markdown",
   "id": "aa75b892",
   "metadata": {},
   "source": [
    "# 110. Temperature Converter: Write a Python function called `temperature_converter` that takes a temperature value and a string representing the scale (‘C’ for Celsius or ‘F’ for Fahrenheit) as input. The function should convert the temperature from one scale to the other using nested functions and return the converted value."
   ]
  },
  {
   "cell_type": "code",
   "execution_count": 117,
   "id": "c25c9d64",
   "metadata": {},
   "outputs": [],
   "source": [
    "def temperature_converter(value, scale):\n",
    "    def celsius_to_fahrenheit(celsius):\n",
    "        return (celsius * 9/5) + 32\n",
    "\n",
    "    def fahrenheit_to_celsius(fahrenheit):\n",
    "        return (fahrenheit - 32) * 5/9\n",
    "\n",
    "    if scale.upper() == 'C':\n",
    "        return celsius_to_fahrenheit(value)  \n",
    "    elif scale.upper() == 'F':\n",
    "        return fahrenheit_to_celsius(value)  \n",
    "    else:\n",
    "        return \"Error: Invalid scale. Please use 'C' for Celsius or 'F' for Fahrenheit.\""
   ]
  },
  {
   "cell_type": "code",
   "execution_count": 118,
   "id": "40a7d500",
   "metadata": {},
   "outputs": [
    {
     "name": "stdout",
     "output_type": "stream",
     "text": [
      "Enter temperature: 23.50\n"
     ]
    }
   ],
   "source": [
    "tem=float(input(\"Enter temperature: \"))"
   ]
  },
  {
   "cell_type": "code",
   "execution_count": 119,
   "id": "52177882",
   "metadata": {},
   "outputs": [
    {
     "name": "stdout",
     "output_type": "stream",
     "text": [
      "Celsius to Fahrenheit:  74.3\n",
      "Fahrenheit to Celsius:  -4.722222222222222\n",
      "Error: Invalid scale. Please use 'C' for Celsius or 'F' for Fahrenheit.\n"
     ]
    }
   ],
   "source": [
    "print(\"Celsius to Fahrenheit: \",temperature_converter(tem, 'C'))  \n",
    "print(\"Fahrenheit to Celsius: \",temperature_converter(tem, 'F'))  \n",
    "print(temperature_converter(tem, 'K'))"
   ]
  },
  {
   "cell_type": "markdown",
   "id": "a2584cfe",
   "metadata": {},
   "source": [
    "# Recursion:"
   ]
  },
  {
   "cell_type": "markdown",
   "id": "2c04f26a",
   "metadata": {},
   "source": [
    "# 111. Factorial Calculation: Write a recursive Python function called `factorial` that takes a non-negative integer as input and returns its factorial."
   ]
  },
  {
   "cell_type": "code",
   "execution_count": 120,
   "id": "53fda450",
   "metadata": {},
   "outputs": [],
   "source": [
    "def factorial(n):\n",
    "    if n == 0 or n == 1:\n",
    "        return 1\n",
    "    else:\n",
    "        return n * factorial(n - 1)"
   ]
  },
  {
   "cell_type": "code",
   "execution_count": 121,
   "id": "035f7ae5",
   "metadata": {},
   "outputs": [
    {
     "name": "stdout",
     "output_type": "stream",
     "text": [
      "Enter factorial value: 5\n"
     ]
    }
   ],
   "source": [
    "fac=int(input(\"Enter factorial value: \"))"
   ]
  },
  {
   "cell_type": "code",
   "execution_count": 122,
   "id": "d1139222",
   "metadata": {},
   "outputs": [
    {
     "name": "stdout",
     "output_type": "stream",
     "text": [
      "Factorial of  5 is:  120\n"
     ]
    }
   ],
   "source": [
    "print(\"Factorial of \",fac,\"is: \",factorial(fac))"
   ]
  },
  {
   "cell_type": "markdown",
   "id": "1cb0e231",
   "metadata": {},
   "source": [
    "# 112. Fibonacci Series: Write a recursive Python function called `Fibonacci` that takes an integer N as input and returns the Nth number in the Fibonacci series. The Fibonacci series is defined as follows: F(0) = 0, F(1) = 1, and F(n) = F(n-1) + F(n-2) for n > 1."
   ]
  },
  {
   "cell_type": "code",
   "execution_count": 137,
   "id": "c383eb84",
   "metadata": {},
   "outputs": [],
   "source": [
    "def Fibonacci(n):\n",
    "    if n == 0:\n",
    "        return 0\n",
    "    elif n == 1:\n",
    "        return 1\n",
    "    else:\n",
    "        return Fibonacci(n - 1) + Fibonacci(n - 2)"
   ]
  },
  {
   "cell_type": "code",
   "execution_count": 138,
   "id": "f7b8c480",
   "metadata": {},
   "outputs": [
    {
     "name": "stdout",
     "output_type": "stream",
     "text": [
      "Enter n1: 4\n"
     ]
    }
   ],
   "source": [
    "n1=int(input(\"Enter n1: \"))"
   ]
  },
  {
   "cell_type": "code",
   "execution_count": 139,
   "id": "15914a35",
   "metadata": {},
   "outputs": [
    {
     "name": "stdout",
     "output_type": "stream",
     "text": [
      "Fibonacci of   is:  3\n"
     ]
    }
   ],
   "source": [
    "print(\"Fibonacci of \",\" is: \",Fibonacci(n1))"
   ]
  },
  {
   "cell_type": "markdown",
   "id": "43eca3fd",
   "metadata": {},
   "source": [
    "# 113. The sum of Digits: Write a recursive Python function called `sum_of_digits` that takes an integer as input and returns the sum of its digits."
   ]
  },
  {
   "cell_type": "code",
   "execution_count": 140,
   "id": "1a5ed015",
   "metadata": {},
   "outputs": [],
   "source": [
    "def sum_of_digits(n):\n",
    "    n = abs(n)\n",
    "    if n == 0:\n",
    "        return 0\n",
    "    \n",
    "    else:\n",
    "        return n % 10 + sum_of_digits(n // 10)"
   ]
  },
  {
   "cell_type": "code",
   "execution_count": 141,
   "id": "0f570f2a",
   "metadata": {},
   "outputs": [
    {
     "name": "stdout",
     "output_type": "stream",
     "text": [
      "Enter num: 12345\n"
     ]
    }
   ],
   "source": [
    "num=int(input(\"Enter num: \"))"
   ]
  },
  {
   "cell_type": "code",
   "execution_count": 142,
   "id": "a351baed",
   "metadata": {},
   "outputs": [
    {
     "name": "stdout",
     "output_type": "stream",
     "text": [
      "Sum of digits:  15\n"
     ]
    }
   ],
   "source": [
    "print(\"Sum of digits: \",sum_of_digits(num))"
   ]
  },
  {
   "cell_type": "markdown",
   "id": "de2998aa",
   "metadata": {},
   "source": [
    "# 114. Binary Search: Write a recursive Python function called `binary_search` that takes a sorted list and a target value as input and returns the index of the target value in the list using binary search. If the target value is not in the list, return -1."
   ]
  },
  {
   "cell_type": "code",
   "execution_count": 143,
   "id": "87bba476",
   "metadata": {},
   "outputs": [],
   "source": [
    "def binary_search(sorted_list, target, left=0, right=None):\n",
    "    if right is None:\n",
    "        right = len(sorted_list) - 1\n",
    "    \n",
    "    if left > right:\n",
    "        return -1\n",
    "\n",
    "    mid = (left + right) // 2\n",
    "    if sorted_list[mid] == target:\n",
    "        return mid\n",
    "    elif sorted_list[mid] > target:\n",
    "        return binary_search(sorted_list, target, left, mid - 1)\n",
    "    else:\n",
    "        return binary_search(sorted_list, target, mid + 1, right)"
   ]
  },
  {
   "cell_type": "code",
   "execution_count": 144,
   "id": "fabd658d",
   "metadata": {},
   "outputs": [],
   "source": [
    "sorted_list = [1, 3, 5, 7, 9, 11, 13, 15, 17, 19]"
   ]
  },
  {
   "cell_type": "code",
   "execution_count": 147,
   "id": "5dbc0390",
   "metadata": {},
   "outputs": [
    {
     "name": "stdout",
     "output_type": "stream",
     "text": [
      "7 found in index:  3\n"
     ]
    }
   ],
   "source": [
    "print(\"7 found in index: \",binary_search(sorted_list, 7))"
   ]
  },
  {
   "cell_type": "markdown",
   "id": "d62ed869",
   "metadata": {},
   "source": [
    "# 115. Power Calculation: Write a recursive Python function called `power` that takes two positive integers, base and exponent, as input and returns the value of base raised to the exponent."
   ]
  },
  {
   "cell_type": "code",
   "execution_count": 148,
   "id": "a9fc60e5",
   "metadata": {},
   "outputs": [],
   "source": [
    "def power(base, exponent):\n",
    "    if exponent == 0:\n",
    "        return 1\n",
    "    \n",
    "    else:\n",
    "        return base * power(base, exponent - 1)"
   ]
  },
  {
   "cell_type": "code",
   "execution_count": 150,
   "id": "d0c4f0cb",
   "metadata": {},
   "outputs": [
    {
     "name": "stdout",
     "output_type": "stream",
     "text": [
      "Enter n1: 2\n",
      "Enter n2: 3\n"
     ]
    }
   ],
   "source": [
    "n1=int(input(\"Enter n1: \"))\n",
    "n2=int(input(\"Enter n2: \"))"
   ]
  },
  {
   "cell_type": "code",
   "execution_count": 151,
   "id": "540c1568",
   "metadata": {},
   "outputs": [
    {
     "name": "stdout",
     "output_type": "stream",
     "text": [
      "2 power of 3 is:   8\n"
     ]
    }
   ],
   "source": [
    "print(\"2 power of 3 is:  \",power(n1, n2))"
   ]
  },
  {
   "cell_type": "code",
   "execution_count": null,
   "id": "107c786b",
   "metadata": {},
   "outputs": [],
   "source": []
  }
 ],
 "metadata": {
  "kernelspec": {
   "display_name": "Python 3 (ipykernel)",
   "language": "python",
   "name": "python3"
  },
  "language_info": {
   "codemirror_mode": {
    "name": "ipython",
    "version": 3
   },
   "file_extension": ".py",
   "mimetype": "text/x-python",
   "name": "python",
   "nbconvert_exporter": "python",
   "pygments_lexer": "ipython3",
   "version": "3.9.13"
  }
 },
 "nbformat": 4,
 "nbformat_minor": 5
}
